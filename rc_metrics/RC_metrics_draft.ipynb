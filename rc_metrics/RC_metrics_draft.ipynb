{
 "cells": [
  {
   "cell_type": "markdown",
   "metadata": {},
   "source": [
    "## Draft metrics of dataset value"
   ]
  },
  {
   "cell_type": "code",
   "execution_count": 1,
   "metadata": {},
   "outputs": [],
   "source": [
    "from server import * # to do: clean up and rename 'server' script"
   ]
  },
  {
   "cell_type": "code",
   "execution_count": 2,
   "metadata": {},
   "outputs": [],
   "source": [
    "# build a graph from the JSON-LD corpus\n",
    "net = RCNetwork()\n",
    "# net.parse_corpus(Path(\"../corpus/corpus.jsonld\"))"
   ]
  },
  {
   "cell_type": "code",
   "execution_count": null,
   "metadata": {},
   "outputs": [],
   "source": [
    "# rank and scale each entity\n",
    "# net.build_analytics_graph()"
   ]
  },
  {
   "cell_type": "code",
   "execution_count": 3,
   "metadata": {},
   "outputs": [
    {
     "data": {
      "text/plain": [
       "6584.664106369019"
      ]
     },
     "execution_count": 3,
     "metadata": {},
     "output_type": "execute_result"
    }
   ],
   "source": [
    "# parses, builds NetworkX graph, and creates default \"rank\" for each entity\n",
    "net.load_network(\"../../rclc/corpus.jsonld\")"
   ]
  },
  {
   "cell_type": "markdown",
   "metadata": {},
   "source": [
    "#### simple ways to explore the RCNetwork"
   ]
  },
  {
   "cell_type": "code",
   "execution_count": null,
   "metadata": {},
   "outputs": [],
   "source": [
    "# view an element of the graph\n",
    "net.data['dataset-b1b062c8a276fe2800fd'].view"
   ]
  },
  {
   "cell_type": "code",
   "execution_count": null,
   "metadata": {},
   "outputs": [],
   "source": [
    "# net.prov['provider-99fda6d9f6fbf67c3f72'].view\n",
    "\n",
    "net.prov['provider-99fda6d9f6fbf67c3f72'].view['title']"
   ]
  },
  {
   "cell_type": "code",
   "execution_count": null,
   "metadata": {},
   "outputs": [],
   "source": [
    "# net.get_id('publication-639196e25a9adcadaaf2')\n",
    "# net.id_list # returns\n",
    "\n",
    "net.get_id('dataset-b1b062c8a276fe2800fd') # to find in nxg if needed"
   ]
  },
  {
   "cell_type": "code",
   "execution_count": 26,
   "metadata": {},
   "outputs": [
    {
     "data": {
      "text/plain": [
       "(1604, 310, 208)"
      ]
     },
     "execution_count": 26,
     "metadata": {},
     "output_type": "execute_result"
    }
   ],
   "source": [
    "len(net.publ.keys()), len(net.prov.keys()), len(net.data.keys())"
   ]
  },
  {
   "cell_type": "code",
   "execution_count": null,
   "metadata": {},
   "outputs": [],
   "source": [
    "subgraph, paths, node_id = net.get_subgraph('NOAA', 2)"
   ]
  },
  {
   "cell_type": "code",
   "execution_count": null,
   "metadata": {},
   "outputs": [],
   "source": [
    "# no entries with full NOAA name\n",
    "for p in net.prov.keys():\n",
    "    if net.prov[p].view['title']=='National Oceanic and Atmospheric Administration':\n",
    "        print(net.prov[p].view)"
   ]
  },
  {
   "cell_type": "code",
   "execution_count": 4,
   "metadata": {},
   "outputs": [
    {
     "name": "stdout",
     "output_type": "stream",
     "text": [
      "{'id': 'provider-e4db130cccc74f809faf', 'title': 'NOAA', 'ror': 'https://ror.org/02z5nhe81', 'used': True}\n"
     ]
    }
   ],
   "source": [
    "# provider entry uses abbreviation\n",
    "for p in net.prov.keys():\n",
    "    if net.prov[p].view['title']=='NOAA':\n",
    "        print(net.prov[p].view)"
   ]
  },
  {
   "cell_type": "code",
   "execution_count": 5,
   "metadata": {},
   "outputs": [],
   "source": [
    "## gather NOAA datasets\n",
    "\n",
    "data_list = []\n",
    "\n",
    "for d in net.data.keys():\n",
    "    if net.data[d].view['provider']=='provider-e4db130cccc74f809faf':\n",
    "#         print(net.data[d].view)\n",
    "        data_list.append(net.data[d].view['id'])"
   ]
  },
  {
   "cell_type": "markdown",
   "metadata": {},
   "source": [
    "### some more ways to access RCNetwork"
   ]
  },
  {
   "cell_type": "code",
   "execution_count": null,
   "metadata": {},
   "outputs": [],
   "source": [
    "net.data[data_list[3]].view"
   ]
  },
  {
   "cell_type": "code",
   "execution_count": null,
   "metadata": {},
   "outputs": [],
   "source": [
    "# edges from this node\n",
    "net.nxg[net.get_id(net.data[data_list[3]].view[\"id\"])]"
   ]
  },
  {
   "cell_type": "code",
   "execution_count": null,
   "metadata": {},
   "outputs": [],
   "source": [
    "net.id_list[2617]"
   ]
  },
  {
   "cell_type": "code",
   "execution_count": null,
   "metadata": {},
   "outputs": [],
   "source": [
    "net.labels[25501]"
   ]
  },
  {
   "cell_type": "code",
   "execution_count": null,
   "metadata": {},
   "outputs": [],
   "source": [
    "# test 'recommended links' function\n",
    "uuid, title, rank, url, provider, publ_list = net.reco_data(net.data[data_list[3]])"
   ]
  },
  {
   "cell_type": "code",
   "execution_count": null,
   "metadata": {},
   "outputs": [],
   "source": [
    "for pub in net.publ.keys():\n",
    "    if 'dataset-26993827b8a6f43da2bc' in net.publ[pub].view['datasets']:\n",
    "        print(net.publ[pub].view)"
   ]
  },
  {
   "cell_type": "code",
   "execution_count": null,
   "metadata": {},
   "outputs": [],
   "source": [
    "for pub in publ_list:\n",
    "    print(pub)"
   ]
  },
  {
   "cell_type": "code",
   "execution_count": null,
   "metadata": {},
   "outputs": [],
   "source": [
    "net.publ[net.id_list[25501]].view"
   ]
  },
  {
   "cell_type": "code",
   "execution_count": null,
   "metadata": {},
   "outputs": [],
   "source": [
    "# spot check a dataset in the list is found in at least some publications\n",
    "for p in net.publ.keys():\n",
    "        if data_list[4] in net.publ[p].view['datasets']:\n",
    "            print('found data')"
   ]
  },
  {
   "cell_type": "markdown",
   "metadata": {},
   "source": [
    "### Gather dataset labels and initial measures"
   ]
  },
  {
   "cell_type": "code",
   "execution_count": 21,
   "metadata": {},
   "outputs": [],
   "source": [
    "DataID = [] # RC UUID\n",
    "DataName = [] # title\n",
    "DataRank = [] # rank\n",
    "RecPubCount = [] # count of publications from 'recommender'\n",
    "TotPubCount = [] # total publications that are linked to this dataset\n",
    "CombinedData = [] # total count of other datasets linked to publications\n",
    "UniqueCombData = [] # unique count of other datsets linked to publications\n",
    "\n",
    "for d in data_list:\n",
    "    # gather  info from 'recommender'; it sorts the publications based on Eigenvector calc of 'rank'\n",
    "    uuid, title, rank, url, provider, publ_list = net.reco_data(net.data[d])\n",
    "    DataID.append(uuid)\n",
    "    DataName.append(title)\n",
    "    DataRank.append(rank)\n",
    "    RecPubCount.append(len(publ_list))\n",
    "    # search through all publications for current dataset\n",
    "    co_data = []\n",
    "    num_pubs = 0\n",
    "    for p in net.publ.keys():\n",
    "        if d in net.publ[p].view['datasets']:\n",
    "            num_pubs += 1 # pub uses current data\n",
    "            d_list = net.publ[p].view['datasets'].copy()\n",
    "            d_list.remove(uuid) # don't include current dataset\n",
    "            co_data = co_data + d_list # ** LIST OF DATASETS; use to eg calculate data provider co-occurence\n",
    "            #print('----- added pub')\n",
    "    TotPubCount.append(num_pubs)\n",
    "    CombinedData.append(len(co_data))\n",
    "    UniqueCombData.append(len(set(co_data)))\n",
    "    \n",
    "# save metrics to dataframe to explore\n",
    "df = pd.DataFrame({'RC_uuid': DataID, 'Dataset_Name': DataName, 'RC_rank': DataRank, 'num_rec_pubs': RecPubCount,\n",
    "                  'total_pubs': TotPubCount, 'combined_data': CombinedData, 'num_unique_data_join': UniqueCombData})"
   ]
  },
  {
   "cell_type": "code",
   "execution_count": 22,
   "metadata": {},
   "outputs": [
    {
     "data": {
      "text/html": [
       "<div>\n",
       "<style scoped>\n",
       "    .dataframe tbody tr th:only-of-type {\n",
       "        vertical-align: middle;\n",
       "    }\n",
       "\n",
       "    .dataframe tbody tr th {\n",
       "        vertical-align: top;\n",
       "    }\n",
       "\n",
       "    .dataframe thead th {\n",
       "        text-align: right;\n",
       "    }\n",
       "</style>\n",
       "<table border=\"1\" class=\"dataframe\">\n",
       "  <thead>\n",
       "    <tr style=\"text-align: right;\">\n",
       "      <th></th>\n",
       "      <th>RC_uuid</th>\n",
       "      <th>Dataset_Name</th>\n",
       "      <th>RC_rank</th>\n",
       "      <th>num_rec_pubs</th>\n",
       "      <th>total_pubs</th>\n",
       "      <th>combined_data</th>\n",
       "      <th>num_unique_data_join</th>\n",
       "    </tr>\n",
       "  </thead>\n",
       "  <tbody>\n",
       "    <tr>\n",
       "      <th>0</th>\n",
       "      <td>dataset-51708b6d1d43040d0085</td>\n",
       "      <td>Global Historical Climatology Network</td>\n",
       "      <td>0.2528</td>\n",
       "      <td>1</td>\n",
       "      <td>1</td>\n",
       "      <td>0</td>\n",
       "      <td>0</td>\n",
       "    </tr>\n",
       "    <tr>\n",
       "      <th>1</th>\n",
       "      <td>dataset-df0ad972c8f854896ac4</td>\n",
       "      <td>Global Forecast System</td>\n",
       "      <td>0.5785</td>\n",
       "      <td>24</td>\n",
       "      <td>24</td>\n",
       "      <td>0</td>\n",
       "      <td>0</td>\n",
       "    </tr>\n",
       "    <tr>\n",
       "      <th>2</th>\n",
       "      <td>dataset-e5e638ae2642a22ce7a1</td>\n",
       "      <td>Integrated Surface Database</td>\n",
       "      <td>0.4353</td>\n",
       "      <td>15</td>\n",
       "      <td>15</td>\n",
       "      <td>0</td>\n",
       "      <td>0</td>\n",
       "    </tr>\n",
       "    <tr>\n",
       "      <th>3</th>\n",
       "      <td>dataset-26993827b8a6f43da2bc</td>\n",
       "      <td>Coastal Topographic Lidar</td>\n",
       "      <td>0.2514</td>\n",
       "      <td>1</td>\n",
       "      <td>1</td>\n",
       "      <td>2</td>\n",
       "      <td>2</td>\n",
       "    </tr>\n",
       "    <tr>\n",
       "      <th>4</th>\n",
       "      <td>dataset-fb48d7d456ee58f91186</td>\n",
       "      <td>Sea Level Rise Inundation</td>\n",
       "      <td>0.2541</td>\n",
       "      <td>2</td>\n",
       "      <td>2</td>\n",
       "      <td>3</td>\n",
       "      <td>3</td>\n",
       "    </tr>\n",
       "    <tr>\n",
       "      <th>5</th>\n",
       "      <td>dataset-ecaf5e384d1ecc8723c8</td>\n",
       "      <td>National Data Buoy Center</td>\n",
       "      <td>0.3278</td>\n",
       "      <td>3</td>\n",
       "      <td>3</td>\n",
       "      <td>4</td>\n",
       "      <td>4</td>\n",
       "    </tr>\n",
       "    <tr>\n",
       "      <th>6</th>\n",
       "      <td>dataset-9c5fed76bbcb0ce5d978</td>\n",
       "      <td>Economics: National Ocean Watch</td>\n",
       "      <td>0.3187</td>\n",
       "      <td>5</td>\n",
       "      <td>5</td>\n",
       "      <td>6</td>\n",
       "      <td>5</td>\n",
       "    </tr>\n",
       "    <tr>\n",
       "      <th>7</th>\n",
       "      <td>dataset-05c58f6caecd4f6d57ff</td>\n",
       "      <td>Long Range Forecasts</td>\n",
       "      <td>0.2520</td>\n",
       "      <td>2</td>\n",
       "      <td>2</td>\n",
       "      <td>1</td>\n",
       "      <td>1</td>\n",
       "    </tr>\n",
       "    <tr>\n",
       "      <th>8</th>\n",
       "      <td>dataset-545bdd82bd282357400b</td>\n",
       "      <td>Tidal Datum</td>\n",
       "      <td>0.3012</td>\n",
       "      <td>4</td>\n",
       "      <td>4</td>\n",
       "      <td>1</td>\n",
       "      <td>1</td>\n",
       "    </tr>\n",
       "    <tr>\n",
       "      <th>9</th>\n",
       "      <td>dataset-552af54ec1572ce1c5bc</td>\n",
       "      <td>Sea, Lake, and Overland Surges from Hurricanes</td>\n",
       "      <td>0.2537</td>\n",
       "      <td>1</td>\n",
       "      <td>1</td>\n",
       "      <td>2</td>\n",
       "      <td>2</td>\n",
       "    </tr>\n",
       "    <tr>\n",
       "      <th>10</th>\n",
       "      <td>dataset-b2b1b1b4911a9c5155b9</td>\n",
       "      <td>Land Based Station Data</td>\n",
       "      <td>0.2538</td>\n",
       "      <td>1</td>\n",
       "      <td>1</td>\n",
       "      <td>2</td>\n",
       "      <td>2</td>\n",
       "    </tr>\n",
       "    <tr>\n",
       "      <th>11</th>\n",
       "      <td>dataset-3d7d9265e22979a36aff</td>\n",
       "      <td>Climate Forecast System</td>\n",
       "      <td>0.2509</td>\n",
       "      <td>1</td>\n",
       "      <td>1</td>\n",
       "      <td>0</td>\n",
       "      <td>0</td>\n",
       "    </tr>\n",
       "    <tr>\n",
       "      <th>12</th>\n",
       "      <td>dataset-cbe837167fec9cf160e7</td>\n",
       "      <td>Next Generation Weather Radar</td>\n",
       "      <td>0.3715</td>\n",
       "      <td>5</td>\n",
       "      <td>5</td>\n",
       "      <td>4</td>\n",
       "      <td>4</td>\n",
       "    </tr>\n",
       "    <tr>\n",
       "      <th>13</th>\n",
       "      <td>dataset-96d2b59bee23e85a1209</td>\n",
       "      <td>Digital Forecast Database</td>\n",
       "      <td>0.2511</td>\n",
       "      <td>1</td>\n",
       "      <td>1</td>\n",
       "      <td>0</td>\n",
       "      <td>0</td>\n",
       "    </tr>\n",
       "    <tr>\n",
       "      <th>14</th>\n",
       "      <td>dataset-ea9e2702969d58c35461</td>\n",
       "      <td>Local Climatological Data</td>\n",
       "      <td>0.2522</td>\n",
       "      <td>1</td>\n",
       "      <td>1</td>\n",
       "      <td>2</td>\n",
       "      <td>2</td>\n",
       "    </tr>\n",
       "    <tr>\n",
       "      <th>15</th>\n",
       "      <td>dataset-d1df9996e5b8ceda2c07</td>\n",
       "      <td>Integrated Ocean Observing System</td>\n",
       "      <td>0.2518</td>\n",
       "      <td>1</td>\n",
       "      <td>1</td>\n",
       "      <td>0</td>\n",
       "      <td>0</td>\n",
       "    </tr>\n",
       "    <tr>\n",
       "      <th>16</th>\n",
       "      <td>dataset-a333e6aed4ab8c733d85</td>\n",
       "      <td>Coastal Change Analysis Program Data</td>\n",
       "      <td>0.6443</td>\n",
       "      <td>31</td>\n",
       "      <td>31</td>\n",
       "      <td>1</td>\n",
       "      <td>1</td>\n",
       "    </tr>\n",
       "    <tr>\n",
       "      <th>17</th>\n",
       "      <td>dataset-6ec18f09c93d14aea411</td>\n",
       "      <td>8-14 Day Forecasts</td>\n",
       "      <td>0.2517</td>\n",
       "      <td>1</td>\n",
       "      <td>1</td>\n",
       "      <td>1</td>\n",
       "      <td>1</td>\n",
       "    </tr>\n",
       "    <tr>\n",
       "      <th>18</th>\n",
       "      <td>dataset-b80f5ca5d39d313c4878</td>\n",
       "      <td>Storm Events Database</td>\n",
       "      <td>0.2515</td>\n",
       "      <td>1</td>\n",
       "      <td>1</td>\n",
       "      <td>0</td>\n",
       "      <td>0</td>\n",
       "    </tr>\n",
       "    <tr>\n",
       "      <th>19</th>\n",
       "      <td>dataset-f513907681e789b16587</td>\n",
       "      <td>Digital Elevation Model Data</td>\n",
       "      <td>0.2674</td>\n",
       "      <td>8</td>\n",
       "      <td>8</td>\n",
       "      <td>10</td>\n",
       "      <td>6</td>\n",
       "    </tr>\n",
       "    <tr>\n",
       "      <th>20</th>\n",
       "      <td>dataset-511f681736b461df70ba</td>\n",
       "      <td>U.S. Climate Divisions</td>\n",
       "      <td>0.2512</td>\n",
       "      <td>1</td>\n",
       "      <td>1</td>\n",
       "      <td>0</td>\n",
       "      <td>0</td>\n",
       "    </tr>\n",
       "    <tr>\n",
       "      <th>21</th>\n",
       "      <td>dataset-02f38bd245e26f204678</td>\n",
       "      <td>Rapid Refresh</td>\n",
       "      <td>0.2540</td>\n",
       "      <td>1</td>\n",
       "      <td>1</td>\n",
       "      <td>1</td>\n",
       "      <td>1</td>\n",
       "    </tr>\n",
       "    <tr>\n",
       "      <th>22</th>\n",
       "      <td>dataset-05428eef433c4e7cff0a</td>\n",
       "      <td>2013 NOAA Coastal California TopoBathy Merge P...</td>\n",
       "      <td>0.2545</td>\n",
       "      <td>1</td>\n",
       "      <td>1</td>\n",
       "      <td>1</td>\n",
       "      <td>1</td>\n",
       "    </tr>\n",
       "  </tbody>\n",
       "</table>\n",
       "</div>"
      ],
      "text/plain": [
       "                         RC_uuid  \\\n",
       "0   dataset-51708b6d1d43040d0085   \n",
       "1   dataset-df0ad972c8f854896ac4   \n",
       "2   dataset-e5e638ae2642a22ce7a1   \n",
       "3   dataset-26993827b8a6f43da2bc   \n",
       "4   dataset-fb48d7d456ee58f91186   \n",
       "5   dataset-ecaf5e384d1ecc8723c8   \n",
       "6   dataset-9c5fed76bbcb0ce5d978   \n",
       "7   dataset-05c58f6caecd4f6d57ff   \n",
       "8   dataset-545bdd82bd282357400b   \n",
       "9   dataset-552af54ec1572ce1c5bc   \n",
       "10  dataset-b2b1b1b4911a9c5155b9   \n",
       "11  dataset-3d7d9265e22979a36aff   \n",
       "12  dataset-cbe837167fec9cf160e7   \n",
       "13  dataset-96d2b59bee23e85a1209   \n",
       "14  dataset-ea9e2702969d58c35461   \n",
       "15  dataset-d1df9996e5b8ceda2c07   \n",
       "16  dataset-a333e6aed4ab8c733d85   \n",
       "17  dataset-6ec18f09c93d14aea411   \n",
       "18  dataset-b80f5ca5d39d313c4878   \n",
       "19  dataset-f513907681e789b16587   \n",
       "20  dataset-511f681736b461df70ba   \n",
       "21  dataset-02f38bd245e26f204678   \n",
       "22  dataset-05428eef433c4e7cff0a   \n",
       "\n",
       "                                         Dataset_Name RC_rank  num_rec_pubs  \\\n",
       "0               Global Historical Climatology Network  0.2528             1   \n",
       "1                              Global Forecast System  0.5785            24   \n",
       "2                         Integrated Surface Database  0.4353            15   \n",
       "3                           Coastal Topographic Lidar  0.2514             1   \n",
       "4                           Sea Level Rise Inundation  0.2541             2   \n",
       "5                           National Data Buoy Center  0.3278             3   \n",
       "6                     Economics: National Ocean Watch  0.3187             5   \n",
       "7                                Long Range Forecasts  0.2520             2   \n",
       "8                                         Tidal Datum  0.3012             4   \n",
       "9      Sea, Lake, and Overland Surges from Hurricanes  0.2537             1   \n",
       "10                            Land Based Station Data  0.2538             1   \n",
       "11                            Climate Forecast System  0.2509             1   \n",
       "12                      Next Generation Weather Radar  0.3715             5   \n",
       "13                          Digital Forecast Database  0.2511             1   \n",
       "14                          Local Climatological Data  0.2522             1   \n",
       "15                  Integrated Ocean Observing System  0.2518             1   \n",
       "16               Coastal Change Analysis Program Data  0.6443            31   \n",
       "17                                 8-14 Day Forecasts  0.2517             1   \n",
       "18                              Storm Events Database  0.2515             1   \n",
       "19                       Digital Elevation Model Data  0.2674             8   \n",
       "20                             U.S. Climate Divisions  0.2512             1   \n",
       "21                                      Rapid Refresh  0.2540             1   \n",
       "22  2013 NOAA Coastal California TopoBathy Merge P...  0.2545             1   \n",
       "\n",
       "    total_pubs  combined_data  num_unique_data_join  \n",
       "0            1              0                     0  \n",
       "1           24              0                     0  \n",
       "2           15              0                     0  \n",
       "3            1              2                     2  \n",
       "4            2              3                     3  \n",
       "5            3              4                     4  \n",
       "6            5              6                     5  \n",
       "7            2              1                     1  \n",
       "8            4              1                     1  \n",
       "9            1              2                     2  \n",
       "10           1              2                     2  \n",
       "11           1              0                     0  \n",
       "12           5              4                     4  \n",
       "13           1              0                     0  \n",
       "14           1              2                     2  \n",
       "15           1              0                     0  \n",
       "16          31              1                     1  \n",
       "17           1              1                     1  \n",
       "18           1              0                     0  \n",
       "19           8             10                     6  \n",
       "20           1              0                     0  \n",
       "21           1              1                     1  \n",
       "22           1              1                     1  "
      ]
     },
     "execution_count": 22,
     "metadata": {},
     "output_type": "execute_result"
    }
   ],
   "source": [
    "df"
   ]
  },
  {
   "cell_type": "code",
   "execution_count": 23,
   "metadata": {},
   "outputs": [],
   "source": [
    "# save metrics as table\n",
    "df.to_csv('rc_metrics_0915.csv', index=False)"
   ]
  },
  {
   "cell_type": "markdown",
   "metadata": {},
   "source": [
    "### data checking"
   ]
  },
  {
   "cell_type": "code",
   "execution_count": null,
   "metadata": {},
   "outputs": [],
   "source": [
    "## spot check pub list returned by recommender\n",
    "for publist in net.reco_data(net.data['dataset-f513907681e789b16587'])[5]:\n",
    "    pub = net.publ[net.id_list[publist[0]]]\n",
    "    print(pub.view['title'])\n",
    "    print('---', pub.view['datasets'])"
   ]
  },
  {
   "cell_type": "code",
   "execution_count": null,
   "metadata": {},
   "outputs": [],
   "source": [
    "## confirm same publications returned\n",
    "for pkey in net.publ.keys():\n",
    "    if 'dataset-f513907681e789b16587' in net.publ[pkey].view['datasets']:\n",
    "        print(net.publ[pkey].view['title'])\n",
    "        print('--',net.publ[pkey].view['datasets'])"
   ]
  },
  {
   "cell_type": "code",
   "execution_count": null,
   "metadata": {},
   "outputs": [],
   "source": [
    "for publist in net.reco_data(net.data['dataset-545bdd82bd282357400b'])[5]:\n",
    "    pub = net.publ[net.id_list[publist[0]]]\n",
    "    print(pub.view['title'])\n",
    "    print('---', pub.view['datasets'])"
   ]
  },
  {
   "cell_type": "code",
   "execution_count": null,
   "metadata": {},
   "outputs": [],
   "source": [
    "for pkey in net.publ.keys():\n",
    "    if 'dataset-545bdd82bd282357400b' in net.publ[pkey].view['datasets']:\n",
    "        print(net.publ[pkey].view['title'])\n",
    "        print('--',net.publ[pkey].view['datasets'])"
   ]
  },
  {
   "cell_type": "code",
   "execution_count": null,
   "metadata": {},
   "outputs": [],
   "source": [
    "for pkey in net.publ.keys():\n",
    "    if 'dataset-df0ad972c8f854896ac4' in net.publ[pkey].view['datasets']:\n",
    "        print(net.publ[pkey].view['title'])\n",
    "        print('--',net.publ[pkey].view['datasets'])\n"
   ]
  },
  {
   "cell_type": "code",
   "execution_count": 24,
   "metadata": {},
   "outputs": [
    {
     "name": "stdout",
     "output_type": "stream",
     "text": [
      "A Case Study of Low-Level Jets in Yerevan Simulated by the WRF Model\n",
      "-- ['dataset-df0ad972c8f854896ac4']\n",
      "Study on Wind Simulations Using Deep Learning Techniques during Typhoons: A Case Study of Northern Taiwan\n",
      "-- ['dataset-df0ad972c8f854896ac4']\n",
      "Extreme Weather and Poverty Risk: Evidence from Multiple Shocks in Mozambique\n",
      "-- ['dataset-df0ad972c8f854896ac4']\n",
      "IMPLEMENTATION OF A COMPREHENSIVE AND EFFECTIVE GEOPROCESSING WORKFLOW ENVIRONMENT\n",
      "-- ['dataset-df0ad972c8f854896ac4']\n",
      "Advanced methods for uncertainty assessment and global sensitivity analysis of a Eulerian atmospheric chemistry transport model\n",
      "-- ['dataset-df0ad972c8f854896ac4']\n",
      "High-Resolution Discharge Forecasting for Snowmelt and Rainfall Mixed Events\n",
      "-- ['dataset-df0ad972c8f854896ac4']\n",
      "A top-down assessment using OMI NO2 suggests an underestimate in the NOx emissions inventory in Seoul, South Korea during KORUS-AQ\n",
      "-- ['dataset-df0ad972c8f854896ac4']\n",
      "Impacts of North Pacific subtropical and subarctic oceanic frontal zones on the wintertime atmospheric large-scale circulations\n",
      "-- ['dataset-df0ad972c8f854896ac4']\n",
      "Evaluating two methods of estimating error variances using simulated data sets with known errors\n",
      "-- ['dataset-df0ad972c8f854896ac4']\n",
      "An important mechanism of regional O3 transport for summer smog over the Yangtze River Delta in East China\n",
      "-- ['dataset-df0ad972c8f854896ac4']\n",
      "Characterization of lemniscate atmospheric aberrations in Gemini Planet Imager data\n",
      "-- ['dataset-df0ad972c8f854896ac4']\n",
      "Multi-Grid Nesting Ability to Represent Convections across the Gray Zone\n",
      "-- ['dataset-df0ad972c8f854896ac4']\n",
      "Evaluation of Doppler radar and GTS Data Assimilation for NWP Rainfall Prediction of an Extreme Summer Storm in Northern China: from the Hydrological Perspective\n",
      "-- ['dataset-df0ad972c8f854896ac4']\n",
      "Toward a Better Regional Ozone Forecast Over CONUS Using Rapid Data Assimilation of Clouds and Meteorology in WRF-Chem\n",
      "-- ['dataset-df0ad972c8f854896ac4']\n",
      "Vertical structure of ocean surface currents under high winds from massive arrays of drifters\n",
      "-- ['dataset-df0ad972c8f854896ac4']\n",
      "Understanding and improving model representation of aerosol optical properties for a Chinese haze event measured during KORUS-AQ\n",
      "-- ['dataset-df0ad972c8f854896ac4']\n",
      "Estimating observation and model error variances using multiple data sets\n",
      "-- ['dataset-df0ad972c8f854896ac4']\n",
      "Motion of animated streamlets appears to surpass their graphical alterations in human visual detection of vector field maxima\n",
      "-- ['dataset-df0ad972c8f854896ac4']\n",
      "Interactions of atmospheric gases and aerosols with the monsoon dynamics over the Sudano-Guinean region during AMMA\n",
      "-- ['dataset-df0ad972c8f854896ac4']\n",
      "The role of aerosol-radiation-cloud interactions in linking anthropogenic pollution over southern west Africa and dust emission over the Sahara\n",
      "-- ['dataset-df0ad972c8f854896ac4']\n",
      "Impact of ocean mixedlayer depth initialization on the simulation of tropical cyclones over the Bay of Bengal using the WRF-ARW model\n",
      "-- ['dataset-df0ad972c8f854896ac4']\n",
      "Individual Condensation Trails in Aircraft Trajectory Optimization\n",
      "-- ['dataset-df0ad972c8f854896ac4']\n",
      "Effects of model resolution and parameterizations on the simulations of clouds, precipitation, and their interactions with aerosols\n",
      "-- ['dataset-df0ad972c8f854896ac4']\n",
      "Air quality and health impacts from the updated industrial emission standards in China\n",
      "-- ['dataset-df0ad972c8f854896ac4']\n"
     ]
    }
   ],
   "source": [
    "for pkey in net.publ.keys():\n",
    "    if 'dataset-df0ad972c8f854896ac4' in net.publ[pkey].view['datasets']:\n",
    "        print(net.publ[pkey].view['title'])\n",
    "        print('--',net.publ[pkey].view['datasets'])"
   ]
  }
 ],
 "metadata": {
  "kernelspec": {
   "display_name": "RCServer",
   "language": "python",
   "name": "rcserver"
  },
  "language_info": {
   "codemirror_mode": {
    "name": "ipython",
    "version": 3
   },
   "file_extension": ".py",
   "mimetype": "text/x-python",
   "name": "python",
   "nbconvert_exporter": "python",
   "pygments_lexer": "ipython3",
   "version": "3.8.5"
  }
 },
 "nbformat": 4,
 "nbformat_minor": 4
}
