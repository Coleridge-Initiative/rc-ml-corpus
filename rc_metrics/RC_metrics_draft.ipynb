{
 "cells": [
  {
   "cell_type": "markdown",
   "metadata": {},
   "source": [
    "## Draft metrics of dataset value"
   ]
  },
  {
   "cell_type": "code",
   "execution_count": 1,
   "metadata": {},
   "outputs": [],
   "source": [
    "from rc_util import * # to do: add 'calc_data_badge' function or similar"
   ]
  },
  {
   "cell_type": "code",
   "execution_count": 2,
   "metadata": {},
   "outputs": [],
   "source": [
    "# build a graph from the JSON-LD corpus\n",
    "net = RCNetwork()\n",
    "\n",
    "# net.parse_corpus(Path(\"../corpus/corpus.jsonld\"))\n",
    "# rank and scale each entity\n",
    "# net.build_analytics_graph()"
   ]
  },
  {
   "cell_type": "code",
   "execution_count": 3,
   "metadata": {},
   "outputs": [
    {
     "data": {
      "text/plain": [
       "29809.242010116577"
      ]
     },
     "execution_count": 3,
     "metadata": {},
     "output_type": "execute_result"
    }
   ],
   "source": [
    "# parses, builds NetworkX graph, and creates default \"rank\" for each entity\n",
    "net.load_network(\"full.jsonld\") # net.load_network(\"../../rclc/corpus.jsonld\")"
   ]
  },
  {
   "cell_type": "markdown",
   "metadata": {},
   "source": [
    "#### simple ways to explore the RCNetwork"
   ]
  },
  {
   "cell_type": "code",
   "execution_count": null,
   "metadata": {},
   "outputs": [],
   "source": [
    "# view an element of the graph\n",
    "net.data['dataset-b1b062c8a276fe2800fd'].view"
   ]
  },
  {
   "cell_type": "code",
   "execution_count": null,
   "metadata": {},
   "outputs": [],
   "source": [
    "# net.prov['provider-99fda6d9f6fbf67c3f72'].view\n",
    "\n",
    "net.prov['provider-99fda6d9f6fbf67c3f72'].view['title']"
   ]
  },
  {
   "cell_type": "code",
   "execution_count": null,
   "metadata": {},
   "outputs": [],
   "source": [
    "# net.get_id('publication-639196e25a9adcadaaf2')\n",
    "# net.id_list # returns\n",
    "\n",
    "net.get_id('dataset-b1b062c8a276fe2800fd') # to find in nxg if needed"
   ]
  },
  {
   "cell_type": "code",
   "execution_count": null,
   "metadata": {},
   "outputs": [],
   "source": [
    "len(net.publ.keys()), len(net.prov.keys()), len(net.data.keys())"
   ]
  },
  {
   "cell_type": "code",
   "execution_count": null,
   "metadata": {},
   "outputs": [],
   "source": [
    "subgraph, paths, node_id = net.get_subgraph('NOAA', 2)"
   ]
  },
  {
   "cell_type": "code",
   "execution_count": null,
   "metadata": {},
   "outputs": [],
   "source": [
    "# no entries with full NOAA name\n",
    "for p in net.prov.keys():\n",
    "    if net.prov[p].view['title']=='National Oceanic and Atmospheric Administration':\n",
    "        print(net.prov[p].view)"
   ]
  },
  {
   "cell_type": "code",
   "execution_count": null,
   "metadata": {},
   "outputs": [],
   "source": [
    "# provider entry uses abbreviation\n",
    "for p in net.prov.keys():\n",
    "    if net.prov[p].view['title']=='NOAA':\n",
    "        print(net.prov[p].view)"
   ]
  },
  {
   "cell_type": "code",
   "execution_count": null,
   "metadata": {},
   "outputs": [],
   "source": [
    "## gather NOAA datasets\n",
    "\n",
    "data_list = []\n",
    "\n",
    "for d in net.data.keys():\n",
    "    if net.data[d].view['provider']=='provider-e4db130cccc74f809faf':\n",
    "#         print(net.data[d].view)\n",
    "        data_list.append(net.data[d].view['id'])"
   ]
  },
  {
   "cell_type": "markdown",
   "metadata": {},
   "source": [
    "### some more ways to access RCNetwork"
   ]
  },
  {
   "cell_type": "code",
   "execution_count": null,
   "metadata": {},
   "outputs": [],
   "source": [
    "net.data[data_list[3]].view"
   ]
  },
  {
   "cell_type": "code",
   "execution_count": null,
   "metadata": {},
   "outputs": [],
   "source": [
    "# edges from this node\n",
    "net.nxg[net.get_id(net.data[data_list[3]].view[\"id\"])]"
   ]
  },
  {
   "cell_type": "code",
   "execution_count": null,
   "metadata": {},
   "outputs": [],
   "source": [
    "net.id_list[2617]"
   ]
  },
  {
   "cell_type": "code",
   "execution_count": null,
   "metadata": {},
   "outputs": [],
   "source": [
    "net.labels[25501]"
   ]
  },
  {
   "cell_type": "code",
   "execution_count": null,
   "metadata": {},
   "outputs": [],
   "source": [
    "# test 'recommended links' function\n",
    "uuid, title, rank, url, provider, publ_list = net.reco_data(net.data[data_list[3]])"
   ]
  },
  {
   "cell_type": "code",
   "execution_count": null,
   "metadata": {},
   "outputs": [],
   "source": [
    "for pub in net.publ.keys():\n",
    "    if 'dataset-26993827b8a6f43da2bc' in net.publ[pub].view['datasets']:\n",
    "        print(net.publ[pub].view)"
   ]
  },
  {
   "cell_type": "code",
   "execution_count": null,
   "metadata": {},
   "outputs": [],
   "source": [
    "for pub in publ_list:\n",
    "    print(pub)"
   ]
  },
  {
   "cell_type": "code",
   "execution_count": null,
   "metadata": {},
   "outputs": [],
   "source": [
    "net.publ[net.id_list[25501]].view"
   ]
  },
  {
   "cell_type": "code",
   "execution_count": null,
   "metadata": {},
   "outputs": [],
   "source": [
    "# spot check a dataset in the list is found in at least some publications\n",
    "for p in net.publ.keys():\n",
    "        if data_list[4] in net.publ[p].view['datasets']:\n",
    "            print('found data')"
   ]
  },
  {
   "cell_type": "code",
   "execution_count": null,
   "metadata": {},
   "outputs": [],
   "source": [
    "## replicate for USDA\n",
    "for p in net.prov.keys():\n",
    "    if net.prov[p].view['title']=='USDA':\n",
    "        print(net.prov[p].view)"
   ]
  },
  {
   "cell_type": "code",
   "execution_count": null,
   "metadata": {},
   "outputs": [],
   "source": [
    "for p in net.prov.keys():\n",
    "    if net.prov[p].view['title']=='US Department of Agriculture':\n",
    "        print(net.prov[p].view)"
   ]
  },
  {
   "cell_type": "code",
   "execution_count": null,
   "metadata": {},
   "outputs": [],
   "source": [
    "## gather USDA datasets\n",
    "\n",
    "data_list = []\n",
    "\n",
    "for d in net.data.keys():\n",
    "    if net.data[d].view['provider']=='provider-d2d242eddffb73cc92c0':\n",
    "        print(net.data[d].view['id'], net.data[d].view['title'])\n",
    "        data_list.append(net.data[d].view['id'])"
   ]
  },
  {
   "cell_type": "code",
   "execution_count": null,
   "metadata": {},
   "outputs": [],
   "source": [
    "net.reco_data(net.data['dataset-f65e9e0b7b63697db36a'])"
   ]
  },
  {
   "cell_type": "code",
   "execution_count": null,
   "metadata": {},
   "outputs": [],
   "source": [
    "net.publ[net.id_list[2775]].view"
   ]
  },
  {
   "cell_type": "code",
   "execution_count": null,
   "metadata": {},
   "outputs": [],
   "source": [
    "for p in net.prov.keys():\n",
    "    if net.prov[p].view['title']=='IRI':\n",
    "        print(net.prov[p].view)"
   ]
  },
  {
   "cell_type": "code",
   "execution_count": null,
   "metadata": {},
   "outputs": [],
   "source": [
    "# gete dataset ids for just IRI\n",
    "data_list = []\n",
    "\n",
    "for d in net.data.keys():\n",
    "    if net.data[d].view['provider']=='provider-19eb7b3b445e1a00d385':\n",
    "        print(net.data[d].view['id'], net.data[d].view['title'])\n",
    "        data_list.append(net.data[d].view['id'])"
   ]
  },
  {
   "cell_type": "code",
   "execution_count": 4,
   "metadata": {},
   "outputs": [
    {
     "name": "stdout",
     "output_type": "stream",
     "text": [
      "this corpus has: \n",
      "--619 datasets \n",
      "--3,816 publications \n",
      "--378 providers \n",
      "--8,249 authors\n"
     ]
    }
   ],
   "source": [
    "num_datasets = len(set(net.data.keys()))\n",
    "\n",
    "num_publications = len(set(net.publ.keys()))\n",
    "\n",
    "num_providers = len(set(net.prov.keys()))\n",
    "\n",
    "num_authors = len(set(net.auth.keys()))\n",
    "\n",
    "print(\"this corpus has: \\n--{:,.0f} datasets \\n--{:,.0f} publications \\n--{:,.0f} providers \\n--{:,.0f} authors\".format(\n",
    "num_datasets, num_publications, num_providers, num_authors))"
   ]
  },
  {
   "cell_type": "code",
   "execution_count": 6,
   "metadata": {},
   "outputs": [
    {
     "data": {
      "text/plain": [
       "{'id': 'dataset-f65e9e0b7b63697db36a',\n",
       " 'title': 'Nielsen Homescan',\n",
       " 'provider': 'provider-d2d242eddffb73cc92c0',\n",
       " 'url': 'https://catalog.data.gov/dataset/nielsen-homescan',\n",
       " 'used': True}"
      ]
     },
     "execution_count": 6,
     "metadata": {},
     "output_type": "execute_result"
    }
   ],
   "source": [
    "net.data['dataset-f65e9e0b7b63697db36a'].view"
   ]
  },
  {
   "cell_type": "code",
   "execution_count": 7,
   "metadata": {},
   "outputs": [
    {
     "data": {
      "text/plain": [
       "{'id': 'provider-d2d242eddffb73cc92c0',\n",
       " 'title': 'US Department of Agriculture',\n",
       " 'ror': 'https://ror.org/01na82s61',\n",
       " 'used': True}"
      ]
     },
     "execution_count": 7,
     "metadata": {},
     "output_type": "execute_result"
    }
   ],
   "source": [
    "net.prov['provider-d2d242eddffb73cc92c0'].view"
   ]
  },
  {
   "cell_type": "markdown",
   "metadata": {},
   "source": [
    "### Gather dataset labels and initial measures"
   ]
  },
  {
   "cell_type": "code",
   "execution_count": null,
   "metadata": {
    "jupyter": {
     "source_hidden": true
    }
   },
   "outputs": [],
   "source": [
    "# # V1 - was not sure of `reco_data()` grabbed all publications; appears it does\n",
    "# DataID = [] # RC UUID\n",
    "# DataName = [] # title\n",
    "# DataRank = [] # rank\n",
    "# RecPubCount = [] # count of publications from 'recommender'\n",
    "# TotPubCount = [] # total publications that are linked to this dataset\n",
    "# CombinedData = [] # total count of other datasets linked to publications\n",
    "# UniqueCombData = [] # unique count of other datsets linked to publications\n",
    "\n",
    "# for d in data_list:\n",
    "#     # gather  info from 'recommender'; it sorts the publications based on Eigenvector calc of 'rank'\n",
    "#     uuid, title, rank, url, provider, publ_list = net.reco_data(net.data[d])\n",
    "#     DataID.append(uuid)\n",
    "#     DataName.append(title)\n",
    "#     DataRank.append(rank)\n",
    "#     RecPubCount.append(len(publ_list))\n",
    "#     # search through all publications for current dataset\n",
    "#     co_data = []\n",
    "#     num_pubs = 0\n",
    "#     for p in net.publ.keys():\n",
    "#         if d in net.publ[p].view['datasets']:\n",
    "#             num_pubs += 1 # pub uses current data\n",
    "#             d_list = net.publ[p].view['datasets'].copy()\n",
    "#             d_list.remove(uuid) # don't include current dataset\n",
    "#             co_data = co_data + d_list # ** LIST OF DATASETS; use to eg calculate data provider co-occurence\n",
    "#             #print('----- added pub')\n",
    "#     TotPubCount.append(num_pubs)\n",
    "#     CombinedData.append(len(co_data))\n",
    "#     UniqueCombData.append(len(set(co_data)))\n",
    "    \n",
    "# # save metrics to dataframe to explore\n",
    "# df = pd.DataFrame({'RC_uuid': DataID, 'Dataset_Name': DataName, 'RC_rank': DataRank, 'num_rec_pubs': RecPubCount,\n",
    "#                   'total_pubs': TotPubCount, 'combined_data': CombinedData, 'num_unique_data_join': UniqueCombData})"
   ]
  },
  {
   "cell_type": "code",
   "execution_count": 61,
   "metadata": {},
   "outputs": [
    {
     "data": {
      "text/plain": [
       "{'id': 'publication-012594773be6c5c8af7b',\n",
       " 'title': 'The Effect of Work First Job Placements on the Distribution of Earnings: An Instrumental Variable Quantile Regression',\n",
       " 'doi': '',\n",
       " 'pdf': None,\n",
       " 'journal': None,\n",
       " 'abstract': '',\n",
       " 'datasets': ['dataset-18202ba62256e4e8776f', 'dataset-fb7908039273841db7b1'],\n",
       " 'authors': [],\n",
       " 'topics': []}"
      ]
     },
     "execution_count": 61,
     "metadata": {},
     "output_type": "execute_result"
    }
   ],
   "source": [
    "net.publ[net.id_list[p_id]].view"
   ]
  },
  {
   "cell_type": "code",
   "execution_count": 66,
   "metadata": {},
   "outputs": [],
   "source": [
    "# V2 - make better use of `reco_data()`\n",
    "DataID = [] # RC UUID\n",
    "DataName = [] # title\n",
    "DataURL = [] # reference URL\n",
    "DataProv = [] # dataset provider\n",
    "DataRank = [] # rank\n",
    "TotPubCount = [] # total publications that are linked to this dataset\n",
    "CombinedData = [] # total count of other datasets linked to publications\n",
    "UniqueCombData = [] # unique count of other datsets linked to publications\n",
    "NumSameProv = [] # number of datasets joined to this dataset owned by same provider\n",
    "NumOtherProv = [] # number of datasets joined to this dataset owned by a different provider\n",
    "UniqueOtherProv = [] # unique count of other providers\n",
    "\n",
    "dataset_links = []\n",
    "\n",
    "for d in net.data.keys(): #data_list:\n",
    "    # gather  info from 'recommender'; it sorts the publications based on Eigenvector calc of 'rank'\n",
    "    uuid, title, rank, url, provider, publ_list = net.reco_data(net.data[d])\n",
    "    DataID.append(uuid)\n",
    "    DataName.append(title)\n",
    "    DataRank.append(rank)\n",
    "    DataURL.append(url)\n",
    "    DataProv.append(provider[1]) # grab name; 2nd element of \"provider\"\n",
    "    TotPubCount.append(len(publ_list))\n",
    "    # collect datasets linked to publications for current dataset\n",
    "    co_data = []\n",
    "    pub_dois = []\n",
    "    pub_titles = []\n",
    "    pub_rcids = []\n",
    "    for p_id, _title, _rank in publ_list:\n",
    "        d_list = net.publ[net.id_list[p_id]].view['datasets'].copy()\n",
    "        d_list.remove(uuid) # don't include current dataset\n",
    "        co_data = co_data + d_list # ** LIST OF DATASETS; use to eg calculate data provider co-occurence\n",
    "        p_doi = net.publ[net.id_list[p_id]].view['doi']\n",
    "        pub_dois = pub_dois + [p_doi for e in d_list] # make list of DOIs same as number of linked datasets\n",
    "        p_rcid = net.publ[net.id_list[p_id]].view['id']\n",
    "        pub_rcids = pub_rcids + [p_rcid for e in d_list]\n",
    "        pub_titles = pub_titles + [_title for e in d_list]\n",
    "    CombinedData.append(len(co_data))\n",
    "    UniqueCombData.append(len(set(co_data)))\n",
    "    \n",
    "    # summarize datasets by this provider vs other providers\n",
    "    co_prov = [net.prov[net.data[co].view['provider']].view['id'] for co in co_data]\n",
    "    NumSameProv.append(len([p for p in co_prov if p==net.data[d].view['provider']]))\n",
    "    other_provs = [p for p in co_prov if p!=net.data[d].view['provider']]\n",
    "    NumOtherProv.append(len(other_provs))\n",
    "    UniqueOtherProv.append(len(set(other_provs)))\n",
    "    \n",
    "    co_titles = [net.data[co].view['title'] for co in co_data]\n",
    "    co_prov_names = [net.prov[net.data[co].view['provider']].view['title'] for co in co_data]\n",
    "    \n",
    "    d_uuids = [d for co in co_data]\n",
    "    titles = [title for co in co_data]\n",
    "    providers = [provider[1] for co in co_data]\n",
    "    \n",
    "    dls = pd.DataFrame({'DataRCID': d_uuids, 'DataRCName': titles, 'DataRCProv': providers, \n",
    "                        'LinkedDataRCID': co_data, 'LinkedDataRCNames': co_titles, \n",
    "                        'LinkedDataRCProviders': co_prov_names, 'PubDOI': pub_dois,\n",
    "                       'PubRCID': pub_rcids, 'PubTitle': pub_titles})\n",
    "    dataset_links.append(dls)"
   ]
  },
  {
   "cell_type": "code",
   "execution_count": 14,
   "metadata": {},
   "outputs": [],
   "source": [
    "# save metrics to dataframe to explore\n",
    "df = pd.DataFrame({'RC_uuid': DataID, 'Dataset_Name': DataName, \n",
    "                   'RC_URL': DataURL, 'RC_Provider': DataProv, 'RC_rank': DataRank, \n",
    "                  'total_pubs': TotPubCount, 'combined_data': CombinedData, 'num_unique_data_join': UniqueCombData,\n",
    "                  'count_same_prov': NumSameProv, 'count_diff_prov': NumOtherProv, \n",
    "                   'num_unique_diff_prov': UniqueOtherProv})"
   ]
  },
  {
   "cell_type": "code",
   "execution_count": 15,
   "metadata": {},
   "outputs": [
    {
     "data": {
      "text/html": [
       "<div>\n",
       "<style scoped>\n",
       "    .dataframe tbody tr th:only-of-type {\n",
       "        vertical-align: middle;\n",
       "    }\n",
       "\n",
       "    .dataframe tbody tr th {\n",
       "        vertical-align: top;\n",
       "    }\n",
       "\n",
       "    .dataframe thead th {\n",
       "        text-align: right;\n",
       "    }\n",
       "</style>\n",
       "<table border=\"1\" class=\"dataframe\">\n",
       "  <thead>\n",
       "    <tr style=\"text-align: right;\">\n",
       "      <th></th>\n",
       "      <th>RC_uuid</th>\n",
       "      <th>Dataset_Name</th>\n",
       "      <th>RC_URL</th>\n",
       "      <th>RC_Provider</th>\n",
       "      <th>RC_rank</th>\n",
       "      <th>total_pubs</th>\n",
       "      <th>combined_data</th>\n",
       "      <th>num_unique_data_join</th>\n",
       "      <th>count_same_prov</th>\n",
       "      <th>count_diff_prov</th>\n",
       "      <th>num_unique_diff_prov</th>\n",
       "    </tr>\n",
       "  </thead>\n",
       "  <tbody>\n",
       "    <tr>\n",
       "      <th>0</th>\n",
       "      <td>dataset-d7abbc1e566a22068f1d</td>\n",
       "      <td>Maine Sea Level Rise</td>\n",
       "      <td>https://mgs-maine.opendata.arcgis.com/datasets...</td>\n",
       "      <td>Maine Geological Survey</td>\n",
       "      <td>0.0435</td>\n",
       "      <td>1</td>\n",
       "      <td>1</td>\n",
       "      <td>1</td>\n",
       "      <td>0</td>\n",
       "      <td>1</td>\n",
       "      <td>1</td>\n",
       "    </tr>\n",
       "    <tr>\n",
       "      <th>1</th>\n",
       "      <td>dataset-b2063e7c8ba68a048d87</td>\n",
       "      <td>Iowa Medicaid Information System</td>\n",
       "      <td>https://dhs.iowa.gov/ime/contracts/resource-li...</td>\n",
       "      <td>Iowa Department of Human Services</td>\n",
       "      <td>0.0092</td>\n",
       "      <td>1</td>\n",
       "      <td>5</td>\n",
       "      <td>5</td>\n",
       "      <td>5</td>\n",
       "      <td>0</td>\n",
       "      <td>0</td>\n",
       "    </tr>\n",
       "    <tr>\n",
       "      <th>2</th>\n",
       "      <td>dataset-5eb698d20631f3425eba</td>\n",
       "      <td>The Special Nutrition Program Operations Study</td>\n",
       "      <td>https://www.fns.usda.gov/special-nutrition-pro...</td>\n",
       "      <td>US Department of Agriculture</td>\n",
       "      <td>0.8123</td>\n",
       "      <td>1</td>\n",
       "      <td>0</td>\n",
       "      <td>0</td>\n",
       "      <td>0</td>\n",
       "      <td>0</td>\n",
       "      <td>0</td>\n",
       "    </tr>\n",
       "    <tr>\n",
       "      <th>3</th>\n",
       "      <td>dataset-c8d47db36ff66f36666b</td>\n",
       "      <td>Billion-Dollar Weather and Climate Disasters</td>\n",
       "      <td>https://www.ncdc.noaa.gov/billions/events</td>\n",
       "      <td>NOAA</td>\n",
       "      <td>0.2970</td>\n",
       "      <td>3</td>\n",
       "      <td>0</td>\n",
       "      <td>0</td>\n",
       "      <td>0</td>\n",
       "      <td>0</td>\n",
       "      <td>0</td>\n",
       "    </tr>\n",
       "    <tr>\n",
       "      <th>4</th>\n",
       "      <td>dataset-7342a430cff8e8ba688a</td>\n",
       "      <td>New York State Division of Criminal Justice Se...</td>\n",
       "      <td>https://www.criminaljustice.ny.gov/crimnet/ojs...</td>\n",
       "      <td>New York State Division of Criminal Justice Se...</td>\n",
       "      <td>0.3280</td>\n",
       "      <td>3</td>\n",
       "      <td>18</td>\n",
       "      <td>16</td>\n",
       "      <td>0</td>\n",
       "      <td>18</td>\n",
       "      <td>16</td>\n",
       "    </tr>\n",
       "  </tbody>\n",
       "</table>\n",
       "</div>"
      ],
      "text/plain": [
       "                        RC_uuid  \\\n",
       "0  dataset-d7abbc1e566a22068f1d   \n",
       "1  dataset-b2063e7c8ba68a048d87   \n",
       "2  dataset-5eb698d20631f3425eba   \n",
       "3  dataset-c8d47db36ff66f36666b   \n",
       "4  dataset-7342a430cff8e8ba688a   \n",
       "\n",
       "                                        Dataset_Name  \\\n",
       "0                               Maine Sea Level Rise   \n",
       "1                   Iowa Medicaid Information System   \n",
       "2     The Special Nutrition Program Operations Study   \n",
       "3       Billion-Dollar Weather and Climate Disasters   \n",
       "4  New York State Division of Criminal Justice Se...   \n",
       "\n",
       "                                              RC_URL  \\\n",
       "0  https://mgs-maine.opendata.arcgis.com/datasets...   \n",
       "1  https://dhs.iowa.gov/ime/contracts/resource-li...   \n",
       "2  https://www.fns.usda.gov/special-nutrition-pro...   \n",
       "3          https://www.ncdc.noaa.gov/billions/events   \n",
       "4  https://www.criminaljustice.ny.gov/crimnet/ojs...   \n",
       "\n",
       "                                         RC_Provider RC_rank  total_pubs  \\\n",
       "0                            Maine Geological Survey  0.0435           1   \n",
       "1                  Iowa Department of Human Services  0.0092           1   \n",
       "2                       US Department of Agriculture  0.8123           1   \n",
       "3                                               NOAA  0.2970           3   \n",
       "4  New York State Division of Criminal Justice Se...  0.3280           3   \n",
       "\n",
       "   combined_data  num_unique_data_join  count_same_prov  count_diff_prov  \\\n",
       "0              1                     1                0                1   \n",
       "1              5                     5                5                0   \n",
       "2              0                     0                0                0   \n",
       "3              0                     0                0                0   \n",
       "4             18                    16                0               18   \n",
       "\n",
       "   num_unique_diff_prov  \n",
       "0                     1  \n",
       "1                     0  \n",
       "2                     0  \n",
       "3                     0  \n",
       "4                    16  "
      ]
     },
     "execution_count": 15,
     "metadata": {},
     "output_type": "execute_result"
    }
   ],
   "source": [
    "df.head()"
   ]
  },
  {
   "cell_type": "code",
   "execution_count": 68,
   "metadata": {},
   "outputs": [],
   "source": [
    "data_linkages = pd.concat(dataset_links)"
   ]
  },
  {
   "cell_type": "code",
   "execution_count": 17,
   "metadata": {},
   "outputs": [
    {
     "data": {
      "text/html": [
       "<div>\n",
       "<style scoped>\n",
       "    .dataframe tbody tr th:only-of-type {\n",
       "        vertical-align: middle;\n",
       "    }\n",
       "\n",
       "    .dataframe tbody tr th {\n",
       "        vertical-align: top;\n",
       "    }\n",
       "\n",
       "    .dataframe thead th {\n",
       "        text-align: right;\n",
       "    }\n",
       "</style>\n",
       "<table border=\"1\" class=\"dataframe\">\n",
       "  <thead>\n",
       "    <tr style=\"text-align: right;\">\n",
       "      <th></th>\n",
       "      <th>RC_uuid</th>\n",
       "      <th>Dataset_Name</th>\n",
       "      <th>RC_URL</th>\n",
       "      <th>RC_Provider</th>\n",
       "      <th>RC_rank</th>\n",
       "      <th>total_pubs</th>\n",
       "      <th>combined_data</th>\n",
       "      <th>num_unique_data_join</th>\n",
       "      <th>count_same_prov</th>\n",
       "      <th>count_diff_prov</th>\n",
       "      <th>num_unique_diff_prov</th>\n",
       "    </tr>\n",
       "  </thead>\n",
       "  <tbody>\n",
       "    <tr>\n",
       "      <th>3</th>\n",
       "      <td>dataset-c8d47db36ff66f36666b</td>\n",
       "      <td>Billion-Dollar Weather and Climate Disasters</td>\n",
       "      <td>https://www.ncdc.noaa.gov/billions/events</td>\n",
       "      <td>NOAA</td>\n",
       "      <td>0.2970</td>\n",
       "      <td>3</td>\n",
       "      <td>0</td>\n",
       "      <td>0</td>\n",
       "      <td>0</td>\n",
       "      <td>0</td>\n",
       "      <td>0</td>\n",
       "    </tr>\n",
       "    <tr>\n",
       "      <th>7</th>\n",
       "      <td>dataset-12e53d67c1e289b8fd01</td>\n",
       "      <td>US Climate Divisions</td>\n",
       "      <td>https://www.ncdc.noaa.gov/monitoring-reference...</td>\n",
       "      <td>NOAA</td>\n",
       "      <td>0.5919</td>\n",
       "      <td>4</td>\n",
       "      <td>11</td>\n",
       "      <td>11</td>\n",
       "      <td>5</td>\n",
       "      <td>6</td>\n",
       "      <td>1</td>\n",
       "    </tr>\n",
       "    <tr>\n",
       "      <th>40</th>\n",
       "      <td>dataset-9c5fed76bbcb0ce5d978</td>\n",
       "      <td>Economics: National Ocean Watch</td>\n",
       "      <td>https://coast.noaa.gov/digitalcoast/data/enow....</td>\n",
       "      <td>NOAA</td>\n",
       "      <td>0.3947</td>\n",
       "      <td>11</td>\n",
       "      <td>14</td>\n",
       "      <td>9</td>\n",
       "      <td>2</td>\n",
       "      <td>12</td>\n",
       "      <td>6</td>\n",
       "    </tr>\n",
       "    <tr>\n",
       "      <th>41</th>\n",
       "      <td>dataset-2d02a870a1d2cfd86a6c</td>\n",
       "      <td>National Land Cover Database</td>\n",
       "      <td>https://coast.noaa.gov/digitalcoast/data/nlcd....</td>\n",
       "      <td>NOAA</td>\n",
       "      <td>0.4478</td>\n",
       "      <td>6</td>\n",
       "      <td>22</td>\n",
       "      <td>20</td>\n",
       "      <td>3</td>\n",
       "      <td>19</td>\n",
       "      <td>12</td>\n",
       "    </tr>\n",
       "    <tr>\n",
       "      <th>87</th>\n",
       "      <td>dataset-df0ad972c8f854896ac4</td>\n",
       "      <td>Global Forecast System</td>\n",
       "      <td>https://www.ncdc.noaa.gov/data-access/model-da...</td>\n",
       "      <td>NOAA</td>\n",
       "      <td>0.7782</td>\n",
       "      <td>50</td>\n",
       "      <td>0</td>\n",
       "      <td>0</td>\n",
       "      <td>0</td>\n",
       "      <td>0</td>\n",
       "      <td>0</td>\n",
       "    </tr>\n",
       "  </tbody>\n",
       "</table>\n",
       "</div>"
      ],
      "text/plain": [
       "                         RC_uuid  \\\n",
       "3   dataset-c8d47db36ff66f36666b   \n",
       "7   dataset-12e53d67c1e289b8fd01   \n",
       "40  dataset-9c5fed76bbcb0ce5d978   \n",
       "41  dataset-2d02a870a1d2cfd86a6c   \n",
       "87  dataset-df0ad972c8f854896ac4   \n",
       "\n",
       "                                    Dataset_Name  \\\n",
       "3   Billion-Dollar Weather and Climate Disasters   \n",
       "7                           US Climate Divisions   \n",
       "40               Economics: National Ocean Watch   \n",
       "41                  National Land Cover Database   \n",
       "87                        Global Forecast System   \n",
       "\n",
       "                                               RC_URL RC_Provider RC_rank  \\\n",
       "3           https://www.ncdc.noaa.gov/billions/events        NOAA  0.2970   \n",
       "7   https://www.ncdc.noaa.gov/monitoring-reference...        NOAA  0.5919   \n",
       "40  https://coast.noaa.gov/digitalcoast/data/enow....        NOAA  0.3947   \n",
       "41  https://coast.noaa.gov/digitalcoast/data/nlcd....        NOAA  0.4478   \n",
       "87  https://www.ncdc.noaa.gov/data-access/model-da...        NOAA  0.7782   \n",
       "\n",
       "    total_pubs  combined_data  num_unique_data_join  count_same_prov  \\\n",
       "3            3              0                     0                0   \n",
       "7            4             11                    11                5   \n",
       "40          11             14                     9                2   \n",
       "41           6             22                    20                3   \n",
       "87          50              0                     0                0   \n",
       "\n",
       "    count_diff_prov  num_unique_diff_prov  \n",
       "3                 0                     0  \n",
       "7                 6                     1  \n",
       "40               12                     6  \n",
       "41               19                    12  \n",
       "87                0                     0  "
      ]
     },
     "execution_count": 17,
     "metadata": {},
     "output_type": "execute_result"
    }
   ],
   "source": [
    "df[df['RC_Provider']=='NOAA'].head()"
   ]
  },
  {
   "cell_type": "code",
   "execution_count": 18,
   "metadata": {},
   "outputs": [
    {
     "data": {
      "text/plain": [
       "(619, 11)"
      ]
     },
     "execution_count": 18,
     "metadata": {},
     "output_type": "execute_result"
    }
   ],
   "source": [
    "df.shape"
   ]
  },
  {
   "cell_type": "code",
   "execution_count": null,
   "metadata": {},
   "outputs": [],
   "source": [
    "# save metrics as table\n",
    "df.to_csv('rc_metrics_full_0915.csv', index=False)"
   ]
  },
  {
   "cell_type": "code",
   "execution_count": 19,
   "metadata": {},
   "outputs": [
    {
     "data": {
      "text/html": [
       "<div>\n",
       "<style scoped>\n",
       "    .dataframe tbody tr th:only-of-type {\n",
       "        vertical-align: middle;\n",
       "    }\n",
       "\n",
       "    .dataframe tbody tr th {\n",
       "        vertical-align: top;\n",
       "    }\n",
       "\n",
       "    .dataframe thead th {\n",
       "        text-align: right;\n",
       "    }\n",
       "</style>\n",
       "<table border=\"1\" class=\"dataframe\">\n",
       "  <thead>\n",
       "    <tr style=\"text-align: right;\">\n",
       "      <th></th>\n",
       "      <th>DataRCID</th>\n",
       "      <th>DataRCName</th>\n",
       "      <th>DataRCProv</th>\n",
       "      <th>LinkedDataRCID</th>\n",
       "      <th>LinkedDataRCNames</th>\n",
       "      <th>LinkedDataRCProviders</th>\n",
       "    </tr>\n",
       "  </thead>\n",
       "  <tbody>\n",
       "    <tr>\n",
       "      <th>0</th>\n",
       "      <td>dataset-d7abbc1e566a22068f1d</td>\n",
       "      <td>Maine Sea Level Rise</td>\n",
       "      <td>Maine Geological Survey</td>\n",
       "      <td>dataset-5e63059e69a541436b0e</td>\n",
       "      <td>Social Vulnerability Index</td>\n",
       "      <td>Centers for Disease Control and Prevention</td>\n",
       "    </tr>\n",
       "    <tr>\n",
       "      <th>0</th>\n",
       "      <td>dataset-b2063e7c8ba68a048d87</td>\n",
       "      <td>Iowa Medicaid Information System</td>\n",
       "      <td>Iowa Department of Human Services</td>\n",
       "      <td>dataset-709a0f04a29ebe08f595</td>\n",
       "      <td>Iowa Unemployment Insurance</td>\n",
       "      <td>Iowa Department of Human Services</td>\n",
       "    </tr>\n",
       "    <tr>\n",
       "      <th>1</th>\n",
       "      <td>dataset-b2063e7c8ba68a048d87</td>\n",
       "      <td>Iowa Medicaid Information System</td>\n",
       "      <td>Iowa Department of Human Services</td>\n",
       "      <td>dataset-fa32a644541b49b5ee55</td>\n",
       "      <td>Iowa Collection and Reporting System</td>\n",
       "      <td>Iowa Department of Human Services</td>\n",
       "    </tr>\n",
       "    <tr>\n",
       "      <th>2</th>\n",
       "      <td>dataset-b2063e7c8ba68a048d87</td>\n",
       "      <td>Iowa Medicaid Information System</td>\n",
       "      <td>Iowa Department of Human Services</td>\n",
       "      <td>dataset-9178d029d4cf48ee1030</td>\n",
       "      <td>Iowa Automated Benefit Calculation System Case...</td>\n",
       "      <td>Iowa Department of Human Services</td>\n",
       "    </tr>\n",
       "    <tr>\n",
       "      <th>3</th>\n",
       "      <td>dataset-b2063e7c8ba68a048d87</td>\n",
       "      <td>Iowa Medicaid Information System</td>\n",
       "      <td>Iowa Department of Human Services</td>\n",
       "      <td>dataset-49d2ddf05993f21462d5</td>\n",
       "      <td>Iowa Automated Benefit Calculation System Indi...</td>\n",
       "      <td>Iowa Department of Human Services</td>\n",
       "    </tr>\n",
       "  </tbody>\n",
       "</table>\n",
       "</div>"
      ],
      "text/plain": [
       "                       DataRCID                        DataRCName  \\\n",
       "0  dataset-d7abbc1e566a22068f1d              Maine Sea Level Rise   \n",
       "0  dataset-b2063e7c8ba68a048d87  Iowa Medicaid Information System   \n",
       "1  dataset-b2063e7c8ba68a048d87  Iowa Medicaid Information System   \n",
       "2  dataset-b2063e7c8ba68a048d87  Iowa Medicaid Information System   \n",
       "3  dataset-b2063e7c8ba68a048d87  Iowa Medicaid Information System   \n",
       "\n",
       "                          DataRCProv                LinkedDataRCID  \\\n",
       "0            Maine Geological Survey  dataset-5e63059e69a541436b0e   \n",
       "0  Iowa Department of Human Services  dataset-709a0f04a29ebe08f595   \n",
       "1  Iowa Department of Human Services  dataset-fa32a644541b49b5ee55   \n",
       "2  Iowa Department of Human Services  dataset-9178d029d4cf48ee1030   \n",
       "3  Iowa Department of Human Services  dataset-49d2ddf05993f21462d5   \n",
       "\n",
       "                                   LinkedDataRCNames  \\\n",
       "0                         Social Vulnerability Index   \n",
       "0                        Iowa Unemployment Insurance   \n",
       "1               Iowa Collection and Reporting System   \n",
       "2  Iowa Automated Benefit Calculation System Case...   \n",
       "3  Iowa Automated Benefit Calculation System Indi...   \n",
       "\n",
       "                        LinkedDataRCProviders  \n",
       "0  Centers for Disease Control and Prevention  \n",
       "0           Iowa Department of Human Services  \n",
       "1           Iowa Department of Human Services  \n",
       "2           Iowa Department of Human Services  \n",
       "3           Iowa Department of Human Services  "
      ]
     },
     "execution_count": 19,
     "metadata": {},
     "output_type": "execute_result"
    }
   ],
   "source": [
    "data_linkages.head()"
   ]
  },
  {
   "cell_type": "code",
   "execution_count": 24,
   "metadata": {},
   "outputs": [
    {
     "data": {
      "text/plain": [
       "(674, 6)"
      ]
     },
     "execution_count": 24,
     "metadata": {},
     "output_type": "execute_result"
    }
   ],
   "source": [
    "data_linkages[data_linkages['DataRCProv'].isin(['US Department of Agriculture', 'IRI'])].shape"
   ]
  },
  {
   "cell_type": "code",
   "execution_count": 25,
   "metadata": {},
   "outputs": [
    {
     "data": {
      "text/plain": [
       "(63, 11)"
      ]
     },
     "execution_count": 25,
     "metadata": {},
     "output_type": "execute_result"
    }
   ],
   "source": [
    "df[df['RC_Provider'].isin(['US Department of Agriculture', 'IRI'])].shape"
   ]
  },
  {
   "cell_type": "code",
   "execution_count": 26,
   "metadata": {},
   "outputs": [],
   "source": [
    "df[df['RC_Provider'].isin(['US Department of Agriculture', 'IRI'])].to_csv('dataset_metrics_USDA_0918.csv', index=False)"
   ]
  },
  {
   "cell_type": "code",
   "execution_count": 27,
   "metadata": {},
   "outputs": [],
   "source": [
    "data_linkages[data_linkages['DataRCProv'].isin(['US Department of Agriculture', 'IRI'])].to_csv('dataset_coocurr_USDA_0918.csv', index=False)"
   ]
  },
  {
   "cell_type": "markdown",
   "metadata": {},
   "source": [
    "### data checking"
   ]
  },
  {
   "cell_type": "code",
   "execution_count": null,
   "metadata": {
    "jupyter": {
     "source_hidden": true
    }
   },
   "outputs": [],
   "source": [
    "## spot check pub list returned by recommender\n",
    "for publist in net.reco_data(net.data['dataset-f513907681e789b16587'])[5]:\n",
    "    pub = net.publ[net.id_list[publist[0]]]\n",
    "    print(pub.view['title'])\n",
    "    print('---', pub.view['datasets'])"
   ]
  },
  {
   "cell_type": "code",
   "execution_count": null,
   "metadata": {
    "jupyter": {
     "source_hidden": true
    }
   },
   "outputs": [],
   "source": [
    "## confirm same publications returned\n",
    "for pkey in net.publ.keys():\n",
    "    if 'dataset-f513907681e789b16587' in net.publ[pkey].view['datasets']:\n",
    "        print(net.publ[pkey].view['title'])\n",
    "        print('--',net.publ[pkey].view['datasets'])"
   ]
  },
  {
   "cell_type": "code",
   "execution_count": null,
   "metadata": {
    "jupyter": {
     "source_hidden": true
    }
   },
   "outputs": [],
   "source": [
    "for publist in net.reco_data(net.data['dataset-545bdd82bd282357400b'])[5]:\n",
    "    pub = net.publ[net.id_list[publist[0]]]\n",
    "    print(pub.view['title'])\n",
    "    print('---', pub.view['datasets'])"
   ]
  },
  {
   "cell_type": "code",
   "execution_count": null,
   "metadata": {
    "jupyter": {
     "source_hidden": true
    }
   },
   "outputs": [],
   "source": [
    "for pkey in net.publ.keys():\n",
    "    if 'dataset-545bdd82bd282357400b' in net.publ[pkey].view['datasets']:\n",
    "        print(net.publ[pkey].view['title'])\n",
    "        print('--',net.publ[pkey].view['datasets'])"
   ]
  },
  {
   "cell_type": "code",
   "execution_count": null,
   "metadata": {
    "jupyter": {
     "source_hidden": true
    }
   },
   "outputs": [],
   "source": [
    "for pkey in net.publ.keys():\n",
    "    if 'dataset-df0ad972c8f854896ac4' in net.publ[pkey].view['datasets']:\n",
    "        print(net.publ[pkey].view['title'])\n",
    "        print('--',net.publ[pkey].view['datasets'])\n"
   ]
  },
  {
   "cell_type": "code",
   "execution_count": null,
   "metadata": {
    "jupyter": {
     "source_hidden": true
    }
   },
   "outputs": [],
   "source": [
    "for pkey in net.publ.keys():\n",
    "    if 'dataset-df0ad972c8f854896ac4' in net.publ[pkey].view['datasets']:\n",
    "        print(net.publ[pkey].view['title'])\n",
    "        print('--',net.publ[pkey].view['datasets'])"
   ]
  },
  {
   "cell_type": "markdown",
   "metadata": {},
   "source": [
    "### some simple visuals"
   ]
  },
  {
   "cell_type": "code",
   "execution_count": 30,
   "metadata": {},
   "outputs": [],
   "source": [
    "import matplotlib.pyplot as plt\n",
    "%matplotlib inline"
   ]
  },
  {
   "cell_type": "code",
   "execution_count": null,
   "metadata": {},
   "outputs": [],
   "source": [
    "# \n",
    "df_vis = df.groupby('RC_Provider')['total_pubs'].sum().reset_index().sort_values('total_pubs', ascending=False)"
   ]
  },
  {
   "cell_type": "code",
   "execution_count": null,
   "metadata": {},
   "outputs": [],
   "source": [
    "df_vis.shape"
   ]
  },
  {
   "cell_type": "code",
   "execution_count": null,
   "metadata": {},
   "outputs": [],
   "source": [
    "df_vis.head(10)"
   ]
  },
  {
   "cell_type": "code",
   "execution_count": null,
   "metadata": {},
   "outputs": [],
   "source": [
    "df_vis.iloc[:20,:].plot(x='RC_Provider', y='total_pubs' , kind='bar', figsize=(14,8), title='Total publications by data provider');"
   ]
  },
  {
   "cell_type": "code",
   "execution_count": null,
   "metadata": {},
   "outputs": [],
   "source": [
    "## mean\n",
    "df_vis = df.groupby('RC_Provider')['total_pubs'].mean().reset_index().sort_values('total_pubs', ascending=False)\n",
    "\n",
    "df_vis.iloc[:20,:].plot(x='RC_Provider', y='total_pubs' , kind='bar', figsize=(14,8), title='Average (mean) publications by data provider');"
   ]
  },
  {
   "cell_type": "code",
   "execution_count": null,
   "metadata": {},
   "outputs": [],
   "source": [
    "print(net.topi.keys())"
   ]
  },
  {
   "cell_type": "code",
   "execution_count": 21,
   "metadata": {},
   "outputs": [
    {
     "data": {
      "text/html": [
       "<div>\n",
       "<style scoped>\n",
       "    .dataframe tbody tr th:only-of-type {\n",
       "        vertical-align: middle;\n",
       "    }\n",
       "\n",
       "    .dataframe tbody tr th {\n",
       "        vertical-align: top;\n",
       "    }\n",
       "\n",
       "    .dataframe thead th {\n",
       "        text-align: right;\n",
       "    }\n",
       "</style>\n",
       "<table border=\"1\" class=\"dataframe\">\n",
       "  <thead>\n",
       "    <tr style=\"text-align: right;\">\n",
       "      <th></th>\n",
       "      <th>RC_uuid</th>\n",
       "      <th>Dataset_Name</th>\n",
       "      <th>RC_URL</th>\n",
       "      <th>RC_Provider</th>\n",
       "      <th>RC_rank</th>\n",
       "      <th>total_pubs</th>\n",
       "      <th>combined_data</th>\n",
       "      <th>num_unique_data_join</th>\n",
       "      <th>count_same_prov</th>\n",
       "      <th>count_diff_prov</th>\n",
       "      <th>num_unique_diff_prov</th>\n",
       "    </tr>\n",
       "  </thead>\n",
       "  <tbody>\n",
       "    <tr>\n",
       "      <th>3</th>\n",
       "      <td>dataset-c8d47db36ff66f36666b</td>\n",
       "      <td>Billion-Dollar Weather and Climate Disasters</td>\n",
       "      <td>https://www.ncdc.noaa.gov/billions/events</td>\n",
       "      <td>NOAA</td>\n",
       "      <td>0.2970</td>\n",
       "      <td>3</td>\n",
       "      <td>0</td>\n",
       "      <td>0</td>\n",
       "      <td>0</td>\n",
       "      <td>0</td>\n",
       "      <td>0</td>\n",
       "    </tr>\n",
       "    <tr>\n",
       "      <th>7</th>\n",
       "      <td>dataset-12e53d67c1e289b8fd01</td>\n",
       "      <td>US Climate Divisions</td>\n",
       "      <td>https://www.ncdc.noaa.gov/monitoring-reference...</td>\n",
       "      <td>NOAA</td>\n",
       "      <td>0.5919</td>\n",
       "      <td>4</td>\n",
       "      <td>11</td>\n",
       "      <td>11</td>\n",
       "      <td>5</td>\n",
       "      <td>6</td>\n",
       "      <td>1</td>\n",
       "    </tr>\n",
       "    <tr>\n",
       "      <th>40</th>\n",
       "      <td>dataset-9c5fed76bbcb0ce5d978</td>\n",
       "      <td>Economics: National Ocean Watch</td>\n",
       "      <td>https://coast.noaa.gov/digitalcoast/data/enow....</td>\n",
       "      <td>NOAA</td>\n",
       "      <td>0.3947</td>\n",
       "      <td>11</td>\n",
       "      <td>14</td>\n",
       "      <td>9</td>\n",
       "      <td>2</td>\n",
       "      <td>12</td>\n",
       "      <td>6</td>\n",
       "    </tr>\n",
       "    <tr>\n",
       "      <th>41</th>\n",
       "      <td>dataset-2d02a870a1d2cfd86a6c</td>\n",
       "      <td>National Land Cover Database</td>\n",
       "      <td>https://coast.noaa.gov/digitalcoast/data/nlcd....</td>\n",
       "      <td>NOAA</td>\n",
       "      <td>0.4478</td>\n",
       "      <td>6</td>\n",
       "      <td>22</td>\n",
       "      <td>20</td>\n",
       "      <td>3</td>\n",
       "      <td>19</td>\n",
       "      <td>12</td>\n",
       "    </tr>\n",
       "    <tr>\n",
       "      <th>87</th>\n",
       "      <td>dataset-df0ad972c8f854896ac4</td>\n",
       "      <td>Global Forecast System</td>\n",
       "      <td>https://www.ncdc.noaa.gov/data-access/model-da...</td>\n",
       "      <td>NOAA</td>\n",
       "      <td>0.7782</td>\n",
       "      <td>50</td>\n",
       "      <td>0</td>\n",
       "      <td>0</td>\n",
       "      <td>0</td>\n",
       "      <td>0</td>\n",
       "      <td>0</td>\n",
       "    </tr>\n",
       "  </tbody>\n",
       "</table>\n",
       "</div>"
      ],
      "text/plain": [
       "                         RC_uuid  \\\n",
       "3   dataset-c8d47db36ff66f36666b   \n",
       "7   dataset-12e53d67c1e289b8fd01   \n",
       "40  dataset-9c5fed76bbcb0ce5d978   \n",
       "41  dataset-2d02a870a1d2cfd86a6c   \n",
       "87  dataset-df0ad972c8f854896ac4   \n",
       "\n",
       "                                    Dataset_Name  \\\n",
       "3   Billion-Dollar Weather and Climate Disasters   \n",
       "7                           US Climate Divisions   \n",
       "40               Economics: National Ocean Watch   \n",
       "41                  National Land Cover Database   \n",
       "87                        Global Forecast System   \n",
       "\n",
       "                                               RC_URL RC_Provider RC_rank  \\\n",
       "3           https://www.ncdc.noaa.gov/billions/events        NOAA  0.2970   \n",
       "7   https://www.ncdc.noaa.gov/monitoring-reference...        NOAA  0.5919   \n",
       "40  https://coast.noaa.gov/digitalcoast/data/enow....        NOAA  0.3947   \n",
       "41  https://coast.noaa.gov/digitalcoast/data/nlcd....        NOAA  0.4478   \n",
       "87  https://www.ncdc.noaa.gov/data-access/model-da...        NOAA  0.7782   \n",
       "\n",
       "    total_pubs  combined_data  num_unique_data_join  count_same_prov  \\\n",
       "3            3              0                     0                0   \n",
       "7            4             11                    11                5   \n",
       "40          11             14                     9                2   \n",
       "41           6             22                    20                3   \n",
       "87          50              0                     0                0   \n",
       "\n",
       "    count_diff_prov  num_unique_diff_prov  \n",
       "3                 0                     0  \n",
       "7                 6                     1  \n",
       "40               12                     6  \n",
       "41               19                    12  \n",
       "87                0                     0  "
      ]
     },
     "execution_count": 21,
     "metadata": {},
     "output_type": "execute_result"
    }
   ],
   "source": [
    "df[df['RC_Provider']=='NOAA'].head()"
   ]
  },
  {
   "cell_type": "code",
   "execution_count": 40,
   "metadata": {},
   "outputs": [
    {
     "data": {
      "image/png": "[encoded data removed]",
      "text/plain": [
       "<Figure size 432x288 with 1 Axes>"
      ]
     },
     "metadata": {
      "needs_background": "light"
     },
     "output_type": "display_data"
    }
   ],
   "source": [
    "## this dataset with (1) same providers data and (2) other providers data\n",
    "\n",
    "## draft \"badge\" with (1) number of publications, (2) number of other datasets, \n",
    "## (3) unique datasets, (4) same providers data, (5) other providers data\n",
    "\n",
    "data_name = 'National Land Cover Database'\n",
    "data_prov = 'NOAA'\n",
    "num_pubs = 6\n",
    "num_other_data = 20\n",
    "joined_same_prov = 3\n",
    "joined_other_prov = 19\n",
    "num_other_prov = 12\n",
    "\n",
    "fig, ax = plt.subplots(figsize=(6,4))\n",
    "ax.set_title(r'Dataset: $\\bf{}$ | Provider: {}'.format(data_name, data_prov))\n",
    "ax.text(.1, .75, r'Used in $\\bf{}$ publications'.format(num_pubs), fontsize=14)\n",
    "ax.text(.1, .5, r'Combined with $\\bf{}$ other datasets'.format(num_other_data), fontsize=14)\n",
    "ax.text(.1, .25, r'Other datasets maintained by $\\bf{}$ other providers'.format(num_other_prov), fontsize=14)\n",
    "ax.axis('off');"
   ]
  },
  {
   "cell_type": "code",
   "execution_count": 31,
   "metadata": {},
   "outputs": [],
   "source": [
    "# function to generate rough draft 'badge'\n",
    "\n",
    "# TO DO: add list of top datasets\n",
    "\n",
    "def gen_badge(data_name, data_prov, num_pubs, num_other_data, num_other_prov):\n",
    "    fig, ax = plt.subplots(figsize=(6,4))\n",
    "    ax.set_title(r'Dataset: $\\bf{}$ | Provider: {}'.format(data_name, data_prov))\n",
    "    ax.text(.1, .75, r'Used in $\\bf{}$ publications'.format(num_pubs), fontsize=14)\n",
    "    ax.text(.1, .5, r'Combined with $\\bf{}$ other datasets'.format(num_other_data), fontsize=14)\n",
    "    ax.text(.1, .25, r'Other datasets maintained by $\\bf{}$ other providers'.format(num_other_prov), fontsize=14)\n",
    "    ax.axis('off')\n",
    "    plt.show();"
   ]
  },
  {
   "cell_type": "code",
   "execution_count": 46,
   "metadata": {},
   "outputs": [
    {
     "data": {
      "text/plain": [
       "(48, 11)"
      ]
     },
     "execution_count": 46,
     "metadata": {},
     "output_type": "execute_result"
    }
   ],
   "source": [
    "df[df['RC_Provider']=='NOAA'].shape"
   ]
  },
  {
   "cell_type": "code",
   "execution_count": 32,
   "metadata": {},
   "outputs": [
    {
     "data": {
      "image/png": "[encoded data removed]",
      "text/plain": [
       "<Figure size 432x288 with 1 Axes>"
      ]
     },
     "metadata": {
      "needs_background": "light"
     },
     "output_type": "display_data"
    },
    {
     "data": {
      "image/png": "[encoded data removed]",
      "text/plain": [
       "<Figure size 432x288 with 1 Axes>"
      ]
     },
     "metadata": {
      "needs_background": "light"
     },
     "output_type": "display_data"
    }
   ],
   "source": [
    "for idx, row in df[df['RC_Provider']=='IRI'].iterrows():\n",
    "    gen_badge(row['Dataset_Name'], row['RC_Provider'], row['total_pubs'], row['num_unique_data_join'], row['num_unique_diff_prov'])"
   ]
  },
  {
   "cell_type": "code",
   "execution_count": 33,
   "metadata": {},
   "outputs": [
    {
     "data": {
      "text/html": [
       "<div>\n",
       "<style scoped>\n",
       "    .dataframe tbody tr th:only-of-type {\n",
       "        vertical-align: middle;\n",
       "    }\n",
       "\n",
       "    .dataframe tbody tr th {\n",
       "        vertical-align: top;\n",
       "    }\n",
       "\n",
       "    .dataframe thead th {\n",
       "        text-align: right;\n",
       "    }\n",
       "</style>\n",
       "<table border=\"1\" class=\"dataframe\">\n",
       "  <thead>\n",
       "    <tr style=\"text-align: right;\">\n",
       "      <th></th>\n",
       "      <th>RC_uuid</th>\n",
       "      <th>Dataset_Name</th>\n",
       "      <th>RC_URL</th>\n",
       "      <th>RC_Provider</th>\n",
       "      <th>RC_rank</th>\n",
       "      <th>total_pubs</th>\n",
       "      <th>combined_data</th>\n",
       "      <th>num_unique_data_join</th>\n",
       "      <th>count_same_prov</th>\n",
       "      <th>count_diff_prov</th>\n",
       "      <th>num_unique_diff_prov</th>\n",
       "    </tr>\n",
       "  </thead>\n",
       "  <tbody>\n",
       "    <tr>\n",
       "      <th>80</th>\n",
       "      <td>dataset-fc71e81f1f2c4130d897</td>\n",
       "      <td>FoodAPS National Household Food Acquisition an...</td>\n",
       "      <td>https://www.ers.usda.gov/data-products/foodaps...</td>\n",
       "      <td>US Department of Agriculture</td>\n",
       "      <td>0.8185</td>\n",
       "      <td>35</td>\n",
       "      <td>4</td>\n",
       "      <td>3</td>\n",
       "      <td>3</td>\n",
       "      <td>1</td>\n",
       "      <td>1</td>\n",
       "    </tr>\n",
       "  </tbody>\n",
       "</table>\n",
       "</div>"
      ],
      "text/plain": [
       "                         RC_uuid  \\\n",
       "80  dataset-fc71e81f1f2c4130d897   \n",
       "\n",
       "                                         Dataset_Name  \\\n",
       "80  FoodAPS National Household Food Acquisition an...   \n",
       "\n",
       "                                               RC_URL  \\\n",
       "80  https://www.ers.usda.gov/data-products/foodaps...   \n",
       "\n",
       "                     RC_Provider RC_rank  total_pubs  combined_data  \\\n",
       "80  US Department of Agriculture  0.8185          35              4   \n",
       "\n",
       "    num_unique_data_join  count_same_prov  count_diff_prov  \\\n",
       "80                     3                3                1   \n",
       "\n",
       "    num_unique_diff_prov  \n",
       "80                     1  "
      ]
     },
     "execution_count": 33,
     "metadata": {},
     "output_type": "execute_result"
    }
   ],
   "source": [
    "FoodAPS = df[df['RC_uuid']=='dataset-fc71e81f1f2c4130d897']\n",
    "FoodAPS"
   ]
  },
  {
   "cell_type": "code",
   "execution_count": 36,
   "metadata": {},
   "outputs": [
    {
     "data": {
      "image/png": "[encoded data removed]",
      "text/plain": [
       "<Figure size 432x288 with 1 Axes>"
      ]
     },
     "metadata": {
      "needs_background": "light"
     },
     "output_type": "display_data"
    }
   ],
   "source": [
    "gen_badge(FoodAPS['Dataset_Name'].values[0], FoodAPS['RC_Provider'].values[0], FoodAPS['total_pubs'].values[0], \n",
    "          FoodAPS['num_unique_data_join'].values[0], FoodAPS['num_unique_diff_prov'].values[0])"
   ]
  },
  {
   "cell_type": "code",
   "execution_count": 37,
   "metadata": {},
   "outputs": [
    {
     "data": {
      "text/html": [
       "<div>\n",
       "<style scoped>\n",
       "    .dataframe tbody tr th:only-of-type {\n",
       "        vertical-align: middle;\n",
       "    }\n",
       "\n",
       "    .dataframe tbody tr th {\n",
       "        vertical-align: top;\n",
       "    }\n",
       "\n",
       "    .dataframe thead th {\n",
       "        text-align: right;\n",
       "    }\n",
       "</style>\n",
       "<table border=\"1\" class=\"dataframe\">\n",
       "  <thead>\n",
       "    <tr style=\"text-align: right;\">\n",
       "      <th></th>\n",
       "      <th>RC_uuid</th>\n",
       "      <th>Dataset_Name</th>\n",
       "      <th>RC_URL</th>\n",
       "      <th>RC_Provider</th>\n",
       "      <th>RC_rank</th>\n",
       "      <th>total_pubs</th>\n",
       "      <th>combined_data</th>\n",
       "      <th>num_unique_data_join</th>\n",
       "      <th>count_same_prov</th>\n",
       "      <th>count_diff_prov</th>\n",
       "      <th>num_unique_diff_prov</th>\n",
       "    </tr>\n",
       "  </thead>\n",
       "  <tbody>\n",
       "    <tr>\n",
       "      <th>353</th>\n",
       "      <td>dataset-955eb4bf66b73016354c</td>\n",
       "      <td>Agricultural Resource Management Survey</td>\n",
       "      <td>https://www.ers.usda.gov/data-products/arms-fa...</td>\n",
       "      <td>US Department of Agriculture</td>\n",
       "      <td>0.9384</td>\n",
       "      <td>320</td>\n",
       "      <td>144</td>\n",
       "      <td>72</td>\n",
       "      <td>91</td>\n",
       "      <td>53</td>\n",
       "      <td>25</td>\n",
       "    </tr>\n",
       "  </tbody>\n",
       "</table>\n",
       "</div>"
      ],
      "text/plain": [
       "                          RC_uuid                             Dataset_Name  \\\n",
       "353  dataset-955eb4bf66b73016354c  Agricultural Resource Management Survey   \n",
       "\n",
       "                                                RC_URL  \\\n",
       "353  https://www.ers.usda.gov/data-products/arms-fa...   \n",
       "\n",
       "                      RC_Provider RC_rank  total_pubs  combined_data  \\\n",
       "353  US Department of Agriculture  0.9384         320            144   \n",
       "\n",
       "     num_unique_data_join  count_same_prov  count_diff_prov  \\\n",
       "353                    72               91               53   \n",
       "\n",
       "     num_unique_diff_prov  \n",
       "353                    25  "
      ]
     },
     "execution_count": 37,
     "metadata": {},
     "output_type": "execute_result"
    }
   ],
   "source": [
    "ARMS = df[df['RC_uuid']=='dataset-955eb4bf66b73016354c']\n",
    "ARMS"
   ]
  },
  {
   "cell_type": "code",
   "execution_count": 38,
   "metadata": {},
   "outputs": [
    {
     "data": {
      "image/png": "[encoded data removed]",
      "text/plain": [
       "<Figure size 432x288 with 1 Axes>"
      ]
     },
     "metadata": {
      "needs_background": "light"
     },
     "output_type": "display_data"
    }
   ],
   "source": [
    "gen_badge(ARMS['Dataset_Name'].values[0], ARMS['RC_Provider'].values[0], ARMS['total_pubs'].values[0], \n",
    "          ARMS['num_unique_data_join'].values[0], ARMS['num_unique_diff_prov'].values[0])"
   ]
  },
  {
   "cell_type": "code",
   "execution_count": 39,
   "metadata": {},
   "outputs": [
    {
     "data": {
      "text/html": [
       "<div>\n",
       "<style scoped>\n",
       "    .dataframe tbody tr th:only-of-type {\n",
       "        vertical-align: middle;\n",
       "    }\n",
       "\n",
       "    .dataframe tbody tr th {\n",
       "        vertical-align: top;\n",
       "    }\n",
       "\n",
       "    .dataframe thead th {\n",
       "        text-align: right;\n",
       "    }\n",
       "</style>\n",
       "<table border=\"1\" class=\"dataframe\">\n",
       "  <thead>\n",
       "    <tr style=\"text-align: right;\">\n",
       "      <th></th>\n",
       "      <th>DataRCID</th>\n",
       "      <th>DataRCName</th>\n",
       "      <th>DataRCProv</th>\n",
       "      <th>LinkedDataRCID</th>\n",
       "      <th>LinkedDataRCNames</th>\n",
       "      <th>LinkedDataRCProviders</th>\n",
       "    </tr>\n",
       "  </thead>\n",
       "  <tbody>\n",
       "    <tr>\n",
       "      <th>0</th>\n",
       "      <td>dataset-d7abbc1e566a22068f1d</td>\n",
       "      <td>Maine Sea Level Rise</td>\n",
       "      <td>Maine Geological Survey</td>\n",
       "      <td>dataset-5e63059e69a541436b0e</td>\n",
       "      <td>Social Vulnerability Index</td>\n",
       "      <td>Centers for Disease Control and Prevention</td>\n",
       "    </tr>\n",
       "    <tr>\n",
       "      <th>0</th>\n",
       "      <td>dataset-b2063e7c8ba68a048d87</td>\n",
       "      <td>Iowa Medicaid Information System</td>\n",
       "      <td>Iowa Department of Human Services</td>\n",
       "      <td>dataset-709a0f04a29ebe08f595</td>\n",
       "      <td>Iowa Unemployment Insurance</td>\n",
       "      <td>Iowa Department of Human Services</td>\n",
       "    </tr>\n",
       "    <tr>\n",
       "      <th>1</th>\n",
       "      <td>dataset-b2063e7c8ba68a048d87</td>\n",
       "      <td>Iowa Medicaid Information System</td>\n",
       "      <td>Iowa Department of Human Services</td>\n",
       "      <td>dataset-fa32a644541b49b5ee55</td>\n",
       "      <td>Iowa Collection and Reporting System</td>\n",
       "      <td>Iowa Department of Human Services</td>\n",
       "    </tr>\n",
       "    <tr>\n",
       "      <th>2</th>\n",
       "      <td>dataset-b2063e7c8ba68a048d87</td>\n",
       "      <td>Iowa Medicaid Information System</td>\n",
       "      <td>Iowa Department of Human Services</td>\n",
       "      <td>dataset-9178d029d4cf48ee1030</td>\n",
       "      <td>Iowa Automated Benefit Calculation System Case...</td>\n",
       "      <td>Iowa Department of Human Services</td>\n",
       "    </tr>\n",
       "    <tr>\n",
       "      <th>3</th>\n",
       "      <td>dataset-b2063e7c8ba68a048d87</td>\n",
       "      <td>Iowa Medicaid Information System</td>\n",
       "      <td>Iowa Department of Human Services</td>\n",
       "      <td>dataset-49d2ddf05993f21462d5</td>\n",
       "      <td>Iowa Automated Benefit Calculation System Indi...</td>\n",
       "      <td>Iowa Department of Human Services</td>\n",
       "    </tr>\n",
       "  </tbody>\n",
       "</table>\n",
       "</div>"
      ],
      "text/plain": [
       "                       DataRCID                        DataRCName  \\\n",
       "0  dataset-d7abbc1e566a22068f1d              Maine Sea Level Rise   \n",
       "0  dataset-b2063e7c8ba68a048d87  Iowa Medicaid Information System   \n",
       "1  dataset-b2063e7c8ba68a048d87  Iowa Medicaid Information System   \n",
       "2  dataset-b2063e7c8ba68a048d87  Iowa Medicaid Information System   \n",
       "3  dataset-b2063e7c8ba68a048d87  Iowa Medicaid Information System   \n",
       "\n",
       "                          DataRCProv                LinkedDataRCID  \\\n",
       "0            Maine Geological Survey  dataset-5e63059e69a541436b0e   \n",
       "0  Iowa Department of Human Services  dataset-709a0f04a29ebe08f595   \n",
       "1  Iowa Department of Human Services  dataset-fa32a644541b49b5ee55   \n",
       "2  Iowa Department of Human Services  dataset-9178d029d4cf48ee1030   \n",
       "3  Iowa Department of Human Services  dataset-49d2ddf05993f21462d5   \n",
       "\n",
       "                                   LinkedDataRCNames  \\\n",
       "0                         Social Vulnerability Index   \n",
       "0                        Iowa Unemployment Insurance   \n",
       "1               Iowa Collection and Reporting System   \n",
       "2  Iowa Automated Benefit Calculation System Case...   \n",
       "3  Iowa Automated Benefit Calculation System Indi...   \n",
       "\n",
       "                        LinkedDataRCProviders  \n",
       "0  Centers for Disease Control and Prevention  \n",
       "0           Iowa Department of Human Services  \n",
       "1           Iowa Department of Human Services  \n",
       "2           Iowa Department of Human Services  \n",
       "3           Iowa Department of Human Services  "
      ]
     },
     "execution_count": 39,
     "metadata": {},
     "output_type": "execute_result"
    }
   ],
   "source": [
    "data_linkages.head()"
   ]
  },
  {
   "cell_type": "code",
   "execution_count": 47,
   "metadata": {},
   "outputs": [],
   "source": [
    "top_datasets = data_linkages[data_linkages['DataRCProv'].isin(['US Department of Agriculture', 'IRI'])]\\\n",
    ".groupby(['DataRCID', 'DataRCName', 'DataRCProv', 'LinkedDataRCProviders', 'LinkedDataRCNames'])['LinkedDataRCID'].count()\\\n",
    ".reset_index().sort_values(['DataRCName','LinkedDataRCID'], ascending=False)#.head()"
   ]
  },
  {
   "cell_type": "code",
   "execution_count": 51,
   "metadata": {},
   "outputs": [],
   "source": [
    "top_datasets[top_datasets['DataRCID']=='dataset-955eb4bf66b73016354c'].to_csv('arms_top10.csv', index=False)"
   ]
  },
  {
   "cell_type": "code",
   "execution_count": 53,
   "metadata": {},
   "outputs": [],
   "source": [
    "top_datasets[top_datasets['DataRCID']=='dataset-fc71e81f1f2c4130d897'].to_csv('FoodAPS_top.csv', index=False)"
   ]
  },
  {
   "cell_type": "code",
   "execution_count": 55,
   "metadata": {},
   "outputs": [],
   "source": [
    "top_datasets[top_datasets['DataRCProv']=='IRI'].to_csv('IRI_top.csv', index=False)"
   ]
  },
  {
   "cell_type": "code",
   "execution_count": 56,
   "metadata": {
    "collapsed": true,
    "jupyter": {
     "outputs_hidden": true
    }
   },
   "outputs": [
    {
     "data": {
      "text/plain": [
       "[[12566,\n",
       "  'Returning to Work after Prison - Final Results from the Transitional Jobs Reentry Demonstration',\n",
       "  0.5789848366199188],\n",
       " [10781,\n",
       "  'Transitional jobs after release from prison: effects on employment and recidivism',\n",
       "  0.5759948743503951],\n",
       " [1685,\n",
       "  'Homelessness and Housing Insecurity Among Former Prisoners',\n",
       "  0.5496547305474478],\n",
       " [8043,\n",
       "  'UI as a Safety Net for Former TANF Recipients: Final Report',\n",
       "  0.37680643553783727],\n",
       " [1024,\n",
       "  'Use of Unemployment Insurance and Public Employment Services after Leaving Welfare',\n",
       "  0.34882893144443655],\n",
       " [10394,\n",
       "  'Use of Unemployment Insurance and Public Employment Services after Leaving Welfare',\n",
       "  0.3487577418665907],\n",
       " [4992,\n",
       "  'Use of Unemployment Insurance and Employment Services by Newly Unemployed Leavers from Temporary Assistance for Needy Families',\n",
       "  0.31081369687477756],\n",
       " [11658,\n",
       "  'Should UI Eligibility Be Expanded to Low-Earning Workers? Evidence on Employment, Transfer Receipt, and Income from Administrative Data',\n",
       "  0.30782373460525375],\n",
       " [9430,\n",
       "  \"Do Temporary-Help Jobs Improve Labor Market Outcomes for Low-Skilled Workers? Evidence from 'Work First'\",\n",
       "  0.30732540756033316],\n",
       " [10518,\n",
       "  'How Important are Fixed Effects and Time Trends in Estimating Returns to Schooling? Evidence Froma Replication of Jacobson, Lalonde and Sullivan, 2005',\n",
       "  0.30725421798248737],\n",
       " [3754,\n",
       "  'The Effect of Work First Job Placements on the Distribution of Earnings: An Instrumental Variable Quantile Regression Approach',\n",
       "  0.18416743788709333],\n",
       " [6102,\n",
       "  'How important are fixed effects and time trends in estimating returns to schooling? Evidence from a replication of Jacobson, Lalonde, and Sullivan, 2005',\n",
       "  0.18359792126432692],\n",
       " [13372,\n",
       "  'The Effect of Work First Job Placements on the Distribution of Earnings: An Instrumental Variable Quantile Regression',\n",
       "  0.17968249448280774]]"
      ]
     },
     "execution_count": 56,
     "metadata": {},
     "output_type": "execute_result"
    }
   ],
   "source": [
    "publ_list"
   ]
  },
  {
   "cell_type": "code",
   "execution_count": 57,
   "metadata": {},
   "outputs": [
    {
     "data": {
      "text/plain": [
       "{'id': 'publication-012594773be6c5c8af7b',\n",
       " 'title': 'The Effect of Work First Job Placements on the Distribution of Earnings: An Instrumental Variable Quantile Regression',\n",
       " 'doi': '',\n",
       " 'pdf': None,\n",
       " 'journal': None,\n",
       " 'abstract': '',\n",
       " 'datasets': ['dataset-18202ba62256e4e8776f', 'dataset-fb7908039273841db7b1'],\n",
       " 'authors': [],\n",
       " 'topics': []}"
      ]
     },
     "execution_count": 57,
     "metadata": {},
     "output_type": "execute_result"
    }
   ],
   "source": [
    "net.publ[net.id_list[13372]].view"
   ]
  },
  {
   "cell_type": "code",
   "execution_count": 59,
   "metadata": {},
   "outputs": [
    {
     "name": "stdout",
     "output_type": "stream",
     "text": [
      "https://doi.org/10.2139/ssrn.2056045\n",
      "https://doi.org/10.1186/s40173-015-0043-8\n",
      "https://doi.org/10.7758/rsf.2015.1.2.04\n",
      "\n",
      "https://doi.org/10.2139/ssrn.2660341\n",
      "https://doi.org/10.17848/ wp15-235\n",
      "\n",
      "https://doi.org/10.2139/ssrn.2664580\n",
      "https://doi.org/10.2139/ssrn.830905\n",
      "https://doi.org/10.2139/ssrn.3175945\n",
      "https://doi.org/10.1086/687522\n",
      "https://doi.org/10.1002/jae.2653\n",
      "\n"
     ]
    }
   ],
   "source": [
    "for pub_res in publ_list:\n",
    "    pub = net.publ[net.id_list[pub_res[0]]].view\n",
    "    if pub['doi']!=None:\n",
    "        print(pub['doi'])"
   ]
  },
  {
   "cell_type": "code",
   "execution_count": 60,
   "metadata": {},
   "outputs": [
    {
     "data": {
      "text/html": [
       "<div>\n",
       "<style scoped>\n",
       "    .dataframe tbody tr th:only-of-type {\n",
       "        vertical-align: middle;\n",
       "    }\n",
       "\n",
       "    .dataframe tbody tr th {\n",
       "        vertical-align: top;\n",
       "    }\n",
       "\n",
       "    .dataframe thead th {\n",
       "        text-align: right;\n",
       "    }\n",
       "</style>\n",
       "<table border=\"1\" class=\"dataframe\">\n",
       "  <thead>\n",
       "    <tr style=\"text-align: right;\">\n",
       "      <th></th>\n",
       "      <th>DataRCID</th>\n",
       "      <th>DataRCName</th>\n",
       "      <th>DataRCProv</th>\n",
       "      <th>LinkedDataRCID</th>\n",
       "      <th>LinkedDataRCNames</th>\n",
       "      <th>LinkedDataRCProviders</th>\n",
       "    </tr>\n",
       "  </thead>\n",
       "  <tbody>\n",
       "    <tr>\n",
       "      <th>0</th>\n",
       "      <td>dataset-d7abbc1e566a22068f1d</td>\n",
       "      <td>Maine Sea Level Rise</td>\n",
       "      <td>Maine Geological Survey</td>\n",
       "      <td>dataset-5e63059e69a541436b0e</td>\n",
       "      <td>Social Vulnerability Index</td>\n",
       "      <td>Centers for Disease Control and Prevention</td>\n",
       "    </tr>\n",
       "    <tr>\n",
       "      <th>0</th>\n",
       "      <td>dataset-b2063e7c8ba68a048d87</td>\n",
       "      <td>Iowa Medicaid Information System</td>\n",
       "      <td>Iowa Department of Human Services</td>\n",
       "      <td>dataset-709a0f04a29ebe08f595</td>\n",
       "      <td>Iowa Unemployment Insurance</td>\n",
       "      <td>Iowa Department of Human Services</td>\n",
       "    </tr>\n",
       "    <tr>\n",
       "      <th>1</th>\n",
       "      <td>dataset-b2063e7c8ba68a048d87</td>\n",
       "      <td>Iowa Medicaid Information System</td>\n",
       "      <td>Iowa Department of Human Services</td>\n",
       "      <td>dataset-fa32a644541b49b5ee55</td>\n",
       "      <td>Iowa Collection and Reporting System</td>\n",
       "      <td>Iowa Department of Human Services</td>\n",
       "    </tr>\n",
       "    <tr>\n",
       "      <th>2</th>\n",
       "      <td>dataset-b2063e7c8ba68a048d87</td>\n",
       "      <td>Iowa Medicaid Information System</td>\n",
       "      <td>Iowa Department of Human Services</td>\n",
       "      <td>dataset-9178d029d4cf48ee1030</td>\n",
       "      <td>Iowa Automated Benefit Calculation System Case...</td>\n",
       "      <td>Iowa Department of Human Services</td>\n",
       "    </tr>\n",
       "    <tr>\n",
       "      <th>3</th>\n",
       "      <td>dataset-b2063e7c8ba68a048d87</td>\n",
       "      <td>Iowa Medicaid Information System</td>\n",
       "      <td>Iowa Department of Human Services</td>\n",
       "      <td>dataset-49d2ddf05993f21462d5</td>\n",
       "      <td>Iowa Automated Benefit Calculation System Indi...</td>\n",
       "      <td>Iowa Department of Human Services</td>\n",
       "    </tr>\n",
       "  </tbody>\n",
       "</table>\n",
       "</div>"
      ],
      "text/plain": [
       "                       DataRCID                        DataRCName  \\\n",
       "0  dataset-d7abbc1e566a22068f1d              Maine Sea Level Rise   \n",
       "0  dataset-b2063e7c8ba68a048d87  Iowa Medicaid Information System   \n",
       "1  dataset-b2063e7c8ba68a048d87  Iowa Medicaid Information System   \n",
       "2  dataset-b2063e7c8ba68a048d87  Iowa Medicaid Information System   \n",
       "3  dataset-b2063e7c8ba68a048d87  Iowa Medicaid Information System   \n",
       "\n",
       "                          DataRCProv                LinkedDataRCID  \\\n",
       "0            Maine Geological Survey  dataset-5e63059e69a541436b0e   \n",
       "0  Iowa Department of Human Services  dataset-709a0f04a29ebe08f595   \n",
       "1  Iowa Department of Human Services  dataset-fa32a644541b49b5ee55   \n",
       "2  Iowa Department of Human Services  dataset-9178d029d4cf48ee1030   \n",
       "3  Iowa Department of Human Services  dataset-49d2ddf05993f21462d5   \n",
       "\n",
       "                                   LinkedDataRCNames  \\\n",
       "0                         Social Vulnerability Index   \n",
       "0                        Iowa Unemployment Insurance   \n",
       "1               Iowa Collection and Reporting System   \n",
       "2  Iowa Automated Benefit Calculation System Case...   \n",
       "3  Iowa Automated Benefit Calculation System Indi...   \n",
       "\n",
       "                        LinkedDataRCProviders  \n",
       "0  Centers for Disease Control and Prevention  \n",
       "0           Iowa Department of Human Services  \n",
       "1           Iowa Department of Human Services  \n",
       "2           Iowa Department of Human Services  \n",
       "3           Iowa Department of Human Services  "
      ]
     },
     "execution_count": 60,
     "metadata": {},
     "output_type": "execute_result"
    }
   ],
   "source": [
    "data_linkages.head()"
   ]
  },
  {
   "cell_type": "code",
   "execution_count": 70,
   "metadata": {},
   "outputs": [
    {
     "data": {
      "text/plain": [
       "{'id': 'publication-4e395f23c4a7d3e75b14',\n",
       " 'title': 'Food Store Choices of Poor Households: A Discrete Choice Analysis of the National Household Food Acquisition and Purchase Survey (FoodAPS)',\n",
       " 'doi': 'https://doi.org/10.1093/ajae/aaw009',\n",
       " 'pdf': 'https://escholarship.org/content/qt22c7b7rt/qt22c7b7rt.pdf?t=ptm3uw',\n",
       " 'journal': 'journal-d2133eb86805a072f35c',\n",
       " 'abstract': '',\n",
       " 'datasets': ['dataset-fc71e81f1f2c4130d897', 'dataset-5abb301866d99d0e76cf'],\n",
       " 'authors': ['author-96dcf44903b901410709', 'author-968b1e9a60fc1ca353ed'],\n",
       " 'topics': []}"
      ]
     },
     "execution_count": 70,
     "metadata": {},
     "output_type": "execute_result"
    }
   ],
   "source": [
    "net.publ['publication-4e395f23c4a7d3e75b14'].view"
   ]
  },
  {
   "cell_type": "code",
   "execution_count": 72,
   "metadata": {},
   "outputs": [
    {
     "data": {
      "text/plain": [
       "{'id': 'author-96dcf44903b901410709',\n",
       " 'title': 'Villas‐Boas, Sofia Berto',\n",
       " 'orcid': 'https://orcid.org/0000-0001-8443-4364',\n",
       " 'used': True,\n",
       " 'mle': {8173: [1, 0.42774491262999853],\n",
       "  1989: [1, 0.42774491262999853],\n",
       "  2378: [1, 0.42774491262999853]}}"
      ]
     },
     "execution_count": 72,
     "metadata": {},
     "output_type": "execute_result"
    }
   ],
   "source": [
    "net.auth['author-96dcf44903b901410709'].view"
   ]
  },
  {
   "cell_type": "code",
   "execution_count": 74,
   "metadata": {},
   "outputs": [
    {
     "data": {
      "text/plain": [
       "(177, 9)"
      ]
     },
     "execution_count": 74,
     "metadata": {},
     "output_type": "execute_result"
    }
   ],
   "source": [
    "## dataset links for 4 target datasets\n",
    "data_list = ['dataset-955eb4bf66b73016354c', 'dataset-fc71e81f1f2c4130d897',\n",
    "            'dataset-ae01c2bf3451493f3620', 'dataset-cb23c2370049f4960a3a']\n",
    "\n",
    "data_linkages[data_linkages['DataRCID'].isin(data_list)].shape"
   ]
  },
  {
   "cell_type": "code",
   "execution_count": 75,
   "metadata": {},
   "outputs": [],
   "source": [
    "data_linkages[data_linkages['DataRCID'].isin(data_list)].to_csv('dataset_links_pubDOIs_0918.csv', index=False)"
   ]
  },
  {
   "cell_type": "code",
   "execution_count": 76,
   "metadata": {},
   "outputs": [],
   "source": [
    "uuid, title, rank, url, provider, publ_list = net.reco_data(net.data['dataset-955eb4bf66b73016354c'])"
   ]
  },
  {
   "cell_type": "code",
   "execution_count": 77,
   "metadata": {
    "collapsed": true,
    "jupyter": {
     "outputs_hidden": true
    }
   },
   "outputs": [
    {
     "data": {
      "text/plain": [
       "[[11493,\n",
       "  'The Impacts of Climate Change on Agricultural Farm Profits in the U.S.',\n",
       "  0.8086424147504805],\n",
       " [2921,\n",
       "  \"Land management change greatly impacts biofuels' greenhouse gas emissions\",\n",
       "  0.8085712251726348],\n",
       " [3226,\n",
       "  'The Impact of Weather on Agricultural Labor Supply',\n",
       "  0.8078593293941766],\n",
       " [11898, 'Air-quality-related health damages of maize', 0.8077881398163309],\n",
       " [6161,\n",
       "  'Potential Farm-Level Effects of Eliminating Direct Payments',\n",
       "  0.8045134192354239],\n",
       " [5639,\n",
       "  'Agricultural Resources and Environmental Indicators, 2012 Edition',\n",
       "  0.8032320068341994],\n",
       " [5195,\n",
       "  'Modeling Nonresponse in Establishment Surveys: Using an Ensemble Tree Model to Create Nonresponse Propensity Scores and Detect Potential Bias in an Agricultural Survey',\n",
       "  0.8025201110557414],\n",
       " [5589,\n",
       "  'The Financial Performance Implications of Differential Marketing Strategies: Exploring Farms that Pursue Local Markets as a Core Competitive Advantage',\n",
       "  0.8014522673880543],\n",
       " [9976,\n",
       "  'Estimating the uncertainty of modeled carbon sequestration: The GreenCertTM system',\n",
       "  0.8003132341425215],\n",
       " [8392,\n",
       "  'Agricultural Resources and Environmental Indicators, 2012',\n",
       "  0.7985334946963765],\n",
       " [13562,\n",
       "  'Assessing nitrous oxide and nitrate leaching mitigation potential in US corn crop systems using the DNDC model',\n",
       "  0.7973232718729978],\n",
       " [3227,\n",
       "  'Productivity and Economic Growth in U.S. Agriculture: A New Look',\n",
       "  0.7951875845376237],\n",
       " [2717,\n",
       "  'Surrogate-based multi-objective optimization of management options for agricultural landscapes using artificial neural networks',\n",
       "  0.7893500391542677],\n",
       " [4033,\n",
       "  'AN IDENTIFICATION APPROACH OF TECHNICALLY EFFICIENT CATEGORY FOR CONTROLLABLE, CATEGORICAL FACTORS IN PRODUCTION AND AN APPLICATION TO A PRODUCTION PROCESS',\n",
       "  0.7891364704207304],\n",
       " [6857,\n",
       "  'Adoption of Cover Crops by U.S. Soybean Producers',\n",
       "  0.7877126788638144],\n",
       " [8057, 'Adoption of Cover Crops in Soybean Production', 0.7872855413967395],\n",
       " [13364,\n",
       "  'The More Educated, the Healthier: Evidence from Rural China.',\n",
       "  0.7868584039296647],\n",
       " [11392,\n",
       "  'The Future of Environmental Compliance Incentives in U.S. Agriculture',\n",
       "  0.7855769915284402],\n",
       " [1905,\n",
       "  'A Note on the Reliability Tests of Estimates from ARMS Data',\n",
       "  0.784580337438599],\n",
       " [8925,\n",
       "  'Corn Residue Use by Livestock in the United States',\n",
       "  0.7845091478607532],\n",
       " [6241,\n",
       "  'Technical efficiency, herd size, and exit intentions in U.S. dairy farms',\n",
       "  0.7842955791272158],\n",
       " [7334,\n",
       "  'Factors determining milk quality and implications for production structure under somatic cell count standard modification',\n",
       "  0.7841531999715242],\n",
       " [5372,\n",
       "  'Quantifying the benefits associated with the use of alternative marketing arrangements by US farmers',\n",
       "  0.7837260625044493],\n",
       " [830,\n",
       "  'Economic Impacts of the U. S. Soybean Aphid Infestation: A Multi-Regional Competitive Dynamic Analysis',\n",
       "  0.7836548729266036],\n",
       " [8371,\n",
       "  'Factors Affecting Producer Participation in State-sponsored Marketing Programs: The Case of Fruit and Vegetable Growers in Tennessee',\n",
       "  0.7835124937709119],\n",
       " [9319,\n",
       "  'Intergenerational Management Transfers in Family Farm Businesses',\n",
       "  0.7834413041930661],\n",
       " [10478,\n",
       "  'Impact of atrazine prohibition on the sustainability of weed management in Wisconsin maize production',\n",
       "  0.7833701146152204],\n",
       " [6481,\n",
       "  'Differential expenditure patterns of local food system participants',\n",
       "  0.7830853563038371],\n",
       " [8416,\n",
       "  'Analysis of Market Segmentation in Farm Credit Markets',\n",
       "  0.7827294084146081],\n",
       " [7270,\n",
       "  'Development of a Cropland Management Dataset to Support U.S. Swat Assessments',\n",
       "  0.7790987399444721],\n",
       " [13470,\n",
       "  'Changing Farm Structure and the Distribution of Farm Payments and Federal Crop Insurance',\n",
       "  0.7720509717377376],\n",
       " [8521,\n",
       "  'The Diverse Structure and Organization of U.S. Beef Cow-Calf Farms',\n",
       "  0.7719797821598918],\n",
       " [10278,\n",
       "  'The Roles of Adoption and Behavior Change in Agricultural Policy',\n",
       "  0.7719085925820459],\n",
       " [12042,\n",
       "  'The economics and productivity of US dairy farms that use crossbred vs non-crossbred breeding technology (production systems)',\n",
       "  0.7718374030042001],\n",
       " [10997,\n",
       "  'Yield stability analysis reveals sources of large-scale nitrogen loss from the US Midwest',\n",
       "  0.7717662134263544],\n",
       " [6462,\n",
       "  'Nitrogen balance in Iowa and the implications of corn-stover harvesting',\n",
       "  0.7716238342706627],\n",
       " [2314,\n",
       "  'The Post-Buyout Experience: Peanut and Tobacco Sectors Adapt to Policy Reform',\n",
       "  0.771552644692817],\n",
       " [14141,\n",
       "  'Who Does Dot Respond to the Agricultural Resource Management Survey and Does It Matter?',\n",
       "  0.7701288531359008],\n",
       " [8881,\n",
       "  'Assessing the Effect of Calibration on Nonresponse Bias in the 2005 ARMS Phase III Sample Using 2002 Census of Agriculture Data',\n",
       "  0.770057663558055],\n",
       " [2844,\n",
       "  'U.S. Farm Succession Plans and the Process of Transferring Land Ownership',\n",
       "  0.7698440948245177],\n",
       " [7800,\n",
       "  'Do Production Contracts Raise Farm Productivity? An Instrumental Variables Approach',\n",
       "  0.7697729052466719],\n",
       " [11667,\n",
       "  'Production Contracts and Productivity in the U.S. Hog Sector',\n",
       "  0.7697017156688262],\n",
       " [5752,\n",
       "  'Assessing the Effect of Calibration on Nonresponse Bias in the 2006 ARMS Phase III Sample Using Census 2002 Data',\n",
       "  0.7696305260909803],\n",
       " [119,\n",
       "  'The adoption of technologies, management practices, and production systems in U.S. milk production',\n",
       "  0.7695593365131345],\n",
       " [12034,\n",
       "  'Is participation in agri-environmental programs affected by liquidity and solvency?',\n",
       "  0.7694881469352888],\n",
       " [10253,\n",
       "  'Farm Size and the Organization of U.S. Crop Farming',\n",
       "  0.7694169573574429],\n",
       " [7757,\n",
       "  'Using Respondent Prediction Models to Improve Efficiency of Incentive Allocation',\n",
       "  0.7692745782017512],\n",
       " [10168,\n",
       "  'The Adoption of Genetically Engineered Alfalfa, Canola and Sugarbeets in the United States',\n",
       "  0.7690610094682139],\n",
       " [4373,\n",
       "  'Production Incentives from Static Decoupling: Land Use Exclusion Restrictions',\n",
       "  0.768989819890368],\n",
       " [1230,\n",
       "  'Direct Payments, Cash Rents, Land Values, and the Effects of Imputation in U.S. Farm-level Data',\n",
       "  0.7687762511568306],\n",
       " [10683,\n",
       "  \"Agriculture's Supply and Demand for Energy and Energy Products\",\n",
       "  0.7687050615789849],\n",
       " [10917,\n",
       "  'Clusters of Organic Operations and their Impact on Regional Economic Growth in the United States',\n",
       "  0.7686338720011391],\n",
       " [10502,\n",
       "  'Farm Activities Associated With Rural Development Initiatives',\n",
       "  0.7685626824232932],\n",
       " [9878,\n",
       "  \"The economic impact of farmers' markets and a state level locally grown campaign\",\n",
       "  0.7684914928454474],\n",
       " [7589, 'Beginning Farmers and Ranchers at a Glance', 0.7684203032676017],\n",
       " [12619, 'Nature of the Farm: Revisited', 0.7683491136897558],\n",
       " [1472, 'Uniqueness of Agricultural Labor Markets', 0.76827792411191],\n",
       " [4254,\n",
       "  'U.S. farm dynamics and the distribution of U.S. agricultural subsidies',\n",
       "  0.7682067345340643],\n",
       " [146,\n",
       "  'Disadoption of conservation practices: cases of injecting manure and soil testing',\n",
       "  0.7681355449562184],\n",
       " [9476, 'Farm-Based Recreation: A Statistical Profile', 0.7677795970669894],\n",
       " [12868,\n",
       "  'Potential water quality changes due to corn expansion in the Upper Mississippi River Basin',\n",
       "  0.7676372179112978],\n",
       " [5549,\n",
       "  'Land use change in a biofuels hotspot: The case of Iowa, USA',\n",
       "  0.767566028333452],\n",
       " [14099,\n",
       "  'ARMS Respondent Errors: A Case of Farm Service Agency Loans',\n",
       "  0.7674948387556061],\n",
       " [1006,\n",
       "  'Has Resistance Taken Root in U.S. Corn Fields? Demand for Insect Control',\n",
       "  0.7673524595999146],\n",
       " [5319,\n",
       "  'Decoupled Direct Payments under Base Acreage and Yield Updating Uncertainty: An Investigation of Agricultural Chemical Use',\n",
       "  0.7672812700220688],\n",
       " [10126,\n",
       "  'Economic impact of organic agriculture hotspots in the United States',\n",
       "  0.7670677012885314],\n",
       " [12455,\n",
       "  'Farm Profits and Adoption of Precision Agriculture',\n",
       "  0.7667117533993023],\n",
       " [13808, \"'No-Till' Farming Is a Growing Practice\", 0.7666405638214566],\n",
       " [13745,\n",
       "  'GREENHOUSE GAS OFFSETS: ANALYSIS OF BASELINE RULES AND ADDITIONALITY FOR REDUCED NITROGEN APPLICATION ON WHEAT',\n",
       "  0.7665693742436107],\n",
       " [7848,\n",
       "  'More Food, Low Pollution (Mo Fo Lo Po): A Grand Challenge for the 21st Century',\n",
       "  0.7664981846657649],\n",
       " [2139,\n",
       "  'Characteristics and Production Costs of U.S. Cotton Farms, 2007',\n",
       "  0.7664269950879191],\n",
       " [5608,\n",
       "  'Characteristics and Production Costs of U.S. Corn Farms, Including Organic, 2010',\n",
       "  0.7663558055100733],\n",
       " [9866,\n",
       "  'Determinants of Farm Household Income Diversification in the United States: Evidence from Farm-Level Data',\n",
       "  0.7638641702854702],\n",
       " [11691,\n",
       "  'Drivers of agricultural profitability in the USA',\n",
       "  0.7637929807076245],\n",
       " [3728, 'Measuring and Analyzing Farm Financial Stress', 0.7636506015519328],\n",
       " [10482,\n",
       "  'Off-Farm Labor Participation Decisions of Married Farm Couples and the Role of Government Payments',\n",
       "  0.7632946536627039],\n",
       " [1067,\n",
       "  'Technology Adoption, Management Practices, and Financial Performance of New and Beginning Farmers: Evidence from a National Survey',\n",
       "  0.7631522745070122],\n",
       " [2559,\n",
       "  'Health care expenditures of selfemployed farm households in the United States',\n",
       "  0.7629387057734748],\n",
       " [8178,\n",
       "  'What is driving economic and financial success of US cow-calf operations?',\n",
       "  0.7628675161956289],\n",
       " [9673,\n",
       "  'The impact of natural amenity on farmland values: A quantile regression approach',\n",
       "  0.7626539474620916],\n",
       " [12871,\n",
       "  'The Impact of Natural Amenity on Farmland Values: A Quantile Regression Approach',\n",
       "  0.7625827578842457],\n",
       " [5038,\n",
       "  'The Impact of Adoption of Genetically Modified Corn on the Off-Farm Labor Supply in the United States',\n",
       "  0.7625115683064],\n",
       " [9915,\n",
       "  'AN ANALYSIS OF TAX-DEFERRED RETIREMENT SAVINGS OF FARM HOUSEHOLDS',\n",
       "  0.7624403787285542],\n",
       " [10987,\n",
       "  'Offfarm employment and reasons for entering farming as determinants of production enterprise selection in US agriculture',\n",
       "  0.7623691891507083],\n",
       " [12058,\n",
       "  'The Role of Goal Structure in Enterprise Selection in U.S. Agriculture',\n",
       "  0.7622979995728625],\n",
       " [10014,\n",
       "  'DETERMINANTS OF DECISIONS TO ENTER THE U.S. FARMING SECTOR',\n",
       "  0.7619420516836335],\n",
       " [6762,\n",
       "  'Dimensions of Wealth Dispersion Among Farm Operator Households: An Assessment of the Impact of Farm Subsidies',\n",
       "  0.7618708621057877],\n",
       " [7397,\n",
       "  'DECOMPOSITION OF VARIABILITY IN ASSETS AND DEBT OF FARM HOUSEHOLDS IN THE U.S.',\n",
       "  0.7617284829500961],\n",
       " [3307,\n",
       "  'Factors Affecting Succession Decisions in Family Farm Businesses: Evidence from a National Survey',\n",
       "  0.7616572933722503],\n",
       " [12197,\n",
       "  'A STOCHASTIC FRONTIER ANALYSIS TO EXAMINE RESEARCH PRIORITIES FOR GENETICALLY ENGINEERED PEANUTS',\n",
       "  0.7615861037944045],\n",
       " [13655,\n",
       "  'Examining Labor Substitution: Does Family Matter for U.S. Cash Grain Farmers?',\n",
       "  0.7612301559051755],\n",
       " [9517,\n",
       "  'Effect of health insurance coverage on labor allocation: evidence from US farm households',\n",
       "  0.7611589663273297],\n",
       " [5281,\n",
       "  'The influence of GM crop adoption on the profitability of farms operated by young and beginning farmers',\n",
       "  0.7610877767494838],\n",
       " [7010,\n",
       "  'Do farm operators benefit from direct to consumer marketing strategies?',\n",
       "  0.761016587171638],\n",
       " [7629,\n",
       "  'Internet Access and Internet Purchasing Patterns of Farm Households',\n",
       "  0.7609453975937923],\n",
       " [10036,\n",
       "  \"Farmers' Participation in Agritourism: Does It Affect the Bottom Line?\",\n",
       "  0.7608742080159465],\n",
       " [9729,\n",
       "  'Measuring the Financial Health of U.S. Production Agriculture',\n",
       "  0.7608030184381006],\n",
       " [6879,\n",
       "  'Measuring precautionary wealth using cross-sectional data: the case of farm households',\n",
       "  0.7606606392824091],\n",
       " [7024,\n",
       "  'Assessing participation in the Milk Income Loss Contract program and its impact on milk production',\n",
       "  0.7605894497045632],\n",
       " [8595, 'DECOUPLED PAYMENTS IN A CHANGING POLICY SETTING', 0.7603758809710258],\n",
       " [9793,\n",
       "  \"Organic farmers or conventional farmers: Where's the money?\",\n",
       "  0.76030469139318],\n",
       " [12502,\n",
       "  'Net Effect of Education on Technology Adoption by U.S. Farmers',\n",
       "  0.7602335018153341],\n",
       " [3623,\n",
       "  'A Categorical Data Analysis on Risks in Agriculture',\n",
       "  0.7601623122374884],\n",
       " [2292,\n",
       "  'Can Education Be a Barrier to Technology Adoption?',\n",
       "  0.7600911226596426],\n",
       " [11850,\n",
       "  'Agritourism and off-farm work: survival strategies for small farms',\n",
       "  0.7600199330817968],\n",
       " [5912,\n",
       "  'Financial performance of small farm business households: the role of internet',\n",
       "  0.759948743503951],\n",
       " [11769,\n",
       "  'Linkage between direct marketing and farm income: a doublehurdle approach',\n",
       "  0.7597351747704135],\n",
       " [6281, 'Internet Access and Use by Farm Households', 0.7596639851925678],\n",
       " [7905,\n",
       "  'Small U.S. Dairy Farms: Can They Compete? A Revisit',\n",
       "  0.759592795614722],\n",
       " [2976,\n",
       "  \"Determinants of dairy farmers' participation in the Milk Income Loss Contract program\",\n",
       "  0.7595216060368761],\n",
       " [3829,\n",
       "  'Modeling debt choice in agriculture: the effect of endogenous asset values',\n",
       "  0.7592368477254929],\n",
       " [10047,\n",
       "  'Risk attitudes and premiums of U.S. corn and soybean producers: an empirical investigation',\n",
       "  0.7591656581476472],\n",
       " [3856,\n",
       "  'Welfare implications of reduced government subsidies to farm families: accounting for fringe benefits',\n",
       "  0.7590944685698013],\n",
       " [10240,\n",
       "  'OffFarm Work, Intensity of Government Payments, and Farm Exits: Evidence from a National Survey in the United States',\n",
       "  0.7590232789919555],\n",
       " [12692,\n",
       "  'Modeling the effect of off-farm income on farmland values: A quantile regression approach',\n",
       "  0.7589520894141097],\n",
       " [66, 'The Lancet Commission on pollution and health.', 0.7587385206805723],\n",
       " [12555, 'Farm Seeker Needs Versus Farm Owner Offers:', 0.7586673311027267],\n",
       " [675,\n",
       "  'Chemical usage in production agriculture: Do crop insurance and off-farm work play a part?',\n",
       "  0.7585961415248808],\n",
       " [8869,\n",
       "  'Tax-Deferred Retirement Savings of Farm Households: An Empirical Investigation',\n",
       "  0.758524951947035],\n",
       " [3001,\n",
       "  'Forage Outsourcing in the Dairy Sector: The Extent of Use and Impact on Farm Profitability',\n",
       "  0.758453762369189],\n",
       " [12183,\n",
       "  'Impact of farm programs on farm households in the US',\n",
       "  0.7583825727913434],\n",
       " [13976,\n",
       "  'Impact of Program Payments on Time Allocation and Farm Household Income',\n",
       "  0.7583113832134976],\n",
       " [2706, 'Small U.S. Dairy Farms: Can They Compete?', 0.758169004057806],\n",
       " [5315, 'Small U.S. dairy farms: can they compete?', 0.7580978144799602],\n",
       " [13074,\n",
       "  'New versus old broiler housing technology: Which leads to greater profit?',\n",
       "  0.7574571082793479],\n",
       " [8904,\n",
       "  'Growing Farm Size and the Distribution of Farm Payments',\n",
       "  0.7573859187015022],\n",
       " [7969,\n",
       "  'Do Wealth Gains from Land Appreciation Cause Farmers to Expand Acreage or Buy Land?',\n",
       "  0.7565316437673525],\n",
       " [12607,\n",
       "  'Keeping ARMS relevant: extracting additional information from ARMS',\n",
       "  0.7564604541895066],\n",
       " [1624,\n",
       "  'Computerized Technology Adoption Among Farms in the U.S. Dairy Industry',\n",
       "  0.7563892646116608],\n",
       " [9435,\n",
       "  'Did the Federal Crop Insurance Reform Act Alter Farm Enterprise Diversification?',\n",
       "  0.7562468854559693],\n",
       " [11152,\n",
       "  'The Economics of Glyphosate Resistance Management in Corn and Soybean Production',\n",
       "  0.7561756958781234],\n",
       " [10875,\n",
       "  'On nonparametric estimation of the latent distribution for ordinal data',\n",
       "  0.7561045063002777],\n",
       " [8502,\n",
       "  'U.S. Grass-Fed Beef Producers: Goal Structure and Reasons for Enterprise Selection',\n",
       "  0.755962127144586],\n",
       " [1993,\n",
       "  'Nonpecuniary Benefits to Farming: Implications for Supply Response to Decoupled Payments',\n",
       "  0.7558909375667402],\n",
       " [12047,\n",
       "  'Adoption of Technology, Management Practices, and Production Systems by U.S. Beef Cow-Calf Producers',\n",
       "  0.7556773688332028],\n",
       " [7559,\n",
       "  'Comparing economic performance of organic and conventional U.S. beef farms using matching samples*',\n",
       "  0.7555349896775112],\n",
       " [2439,\n",
       "  'Pasture-Based versus Conventional Milk Production: Where Is the Profit?',\n",
       "  0.7554638000996654],\n",
       " [13143,\n",
       "  'Financial stress and farm bankruptcies in US agriculture',\n",
       "  0.755250231366128],\n",
       " [11499,\n",
       "  'Rural Wealth Creation and Emerging Energy Industries: Lease and Royalty Payments to Farm Households and Businesses',\n",
       "  0.7549654730547448],\n",
       " [2093,\n",
       "  'Welfare Decomposition in the Context of the Life Cycle of Farm Operators: What Does a National Survey Reveal?',\n",
       "  0.7546807147433615],\n",
       " [11286,\n",
       "  'The Dynamics of Wealth Concentration Among Farm Operator Households',\n",
       "  0.7546095251655157],\n",
       " [4052,\n",
       "  'Decomposition of Total Factor Productivity Change in the U.S. Hog Industry',\n",
       "  0.75453833558767],\n",
       " [11191,\n",
       "  'Urban Influence on Costs of Production in the Corn Belt',\n",
       "  0.7543247668541325],\n",
       " [6877,\n",
       "  'Determinants of Poverty among U.S. Farm Households',\n",
       "  0.7541823876984409],\n",
       " [9788,\n",
       "  'The Off-Farm Occupations of U.S. Farm Operators and Their Spouses',\n",
       "  0.7541111981205951],\n",
       " [1833,\n",
       "  'The Off-Farm Occupations of U.S. Farm Operators and Their Spouses',\n",
       "  0.7540400085427494],\n",
       " [313,\n",
       "  'Reporting and usability of ARMS income and balance sheet data',\n",
       "  0.7539688189649035],\n",
       " [10721,\n",
       "  'The importance of novel and agricultural habitats for the avifauna of an oceanic island',\n",
       "  0.7538264398092118],\n",
       " [5711,\n",
       "  'Does federal crop insurance lead to higher farm debt use? Evidence from the Agricultural Resource Management Survey (ARMS)',\n",
       "  0.7537552502313661],\n",
       " [9989,\n",
       "  'Does Federal Crop Insurance lead to higher farm debt use? Evidence from the Agricultural Resource Management Survey',\n",
       "  0.7536840606535203],\n",
       " [7018,\n",
       "  'The Determinants of a Quality of Life Indicator for Farm Operator Households: Application of Zero-Inflated Count-Data Models',\n",
       "  0.7536128710756745],\n",
       " [9833,\n",
       "  'The Income Volatility of U.S. Commercial Farm Households',\n",
       "  0.7533993023421371],\n",
       " [12261,\n",
       "  \"Examining Nonresponse Occurring in the National Agricultural Statistics Service's 2009 Agricultural Resource Management Survey Phase III\",\n",
       "  0.7533281127642912],\n",
       " [9703,\n",
       "  'Market Power in Poultry Production Contracting? Evidence from a Farm Survey',\n",
       "  0.7531145440307538],\n",
       " [14029,\n",
       "  'Market Power in Poultry Production Contracting? Evidence from a Farm Survey',\n",
       "  0.753043354452908],\n",
       " [4596,\n",
       "  'Local Monopsony Power in the Market for Broilers - Evidence from a Farm Survey',\n",
       "  0.7529721648750624],\n",
       " [2944, \"America's Diverse Family Farms, 2016 Edition\", 0.7526162169858333],\n",
       " [9542,\n",
       "  \"Broiler Farms' Organization, Management, and Performance\",\n",
       "  0.7524738378301418],\n",
       " [45,\n",
       "  'Sub-therapeutic Antibiotics and the Efficiency of U.S. Hog Farms',\n",
       "  0.7524026482522959],\n",
       " [324,\n",
       "  'A Comparison of Data Collected through Farm Management Associations and the Agricultural Resource Management Survey',\n",
       "  0.7521890795187585],\n",
       " [1963,\n",
       "  'Nonresponse in Phase III of the Agricultural Resource Management Survey in Louisiana',\n",
       "  0.7519043212073753],\n",
       " [705,\n",
       "  'Risk attitudes and the structure of decision-making: evidence from the Illinois hog industry',\n",
       "  0.7516195628959921],\n",
       " [8287,\n",
       "  'Do Nutrient Management Plans Actually Manage Nutrients? Evidence from a NationallyRepresentative Survey of Hog Producers',\n",
       "  0.7515483733181462],\n",
       " [12308,\n",
       "  'Assessing the Value of Grazed Corn Residue for Crop and Cattle Producers',\n",
       "  0.7514059941624547],\n",
       " [5037,\n",
       "  'Do nutrient management plans actually manage nutrients? Evidence from a nationally-representative survey of hog producers',\n",
       "  0.7513348045846088],\n",
       " [11079,\n",
       "  'The Potential Impact of Tax Reform on Farm Businesses and Rural Households',\n",
       "  0.7511924254289173],\n",
       " [4358,\n",
       "  'Item Response Rates for the Agricultural Resource Management Survey III in 2006 and 2007',\n",
       "  0.7511212358510714],\n",
       " [8902,\n",
       "  'The U.S. Farm Lease-Debt Relationship: Evidence from a National Survey',\n",
       "  0.7510500462732256],\n",
       " [12554,\n",
       "  'The Potential Impact of Tax Reform on Farm Businesses and Rural Households',\n",
       "  0.7508364775396882],\n",
       " [1851, 'Nitrogen Management on U.S. Corn Acres, 2001-10', 0.7506940983839967],\n",
       " [6052,\n",
       "  'Factors Affecting Farm Loan Delinquency in the Southeastern USA',\n",
       "  0.750551719228305],\n",
       " [8295,\n",
       "  'Potential Effects of Climate Change on the Productivity of U.S. Dairies',\n",
       "  0.7502669609169217],\n",
       " [5673,\n",
       "  'Do Most U.S. Farms Really Lose Money? Taxation and Farm Income Underreporting',\n",
       "  0.7501957713390759],\n",
       " [9810,\n",
       "  'Targeted Data Collection Efforts for the 2013 ARMS III',\n",
       "  0.7501245817612302],\n",
       " [8355,\n",
       "  'Farm Financial Stress in a Changing Economic Environment: Simulating Credit Risk with New Imputed ARMS Data on Farm Debt',\n",
       "  0.7500533921833843],\n",
       " [8513,\n",
       "  'Climate Change Impacts on Farmland Values in the Southeast United States',\n",
       "  0.7499822026055385],\n",
       " [2301,\n",
       "  'Economic Inequality among US Farm Households: Assessment of the Role of the 2008-2009 Financial Crisis',\n",
       "  0.7499110130276928],\n",
       " [2133,\n",
       "  'The profit impacts of risk management tool adoption',\n",
       "  0.749839823449847],\n",
       " [4867, \"America's Diverse Family Farms: 2015 Edition\", 0.7496262547163096],\n",
       " [7200,\n",
       "  'Multivariate Farm Debt Imputation in the Agricultural Resource Management Survey (ARMS)',\n",
       "  0.7495550651384637],\n",
       " [6022,\n",
       "  'Targeted Data Collection Efforts for the 2012 ARMS III',\n",
       "  0.7494126859827722],\n",
       " [9652,\n",
       "  'Implications of Health Care Reform for Farm Businesses and Families',\n",
       "  0.7493414964049263],\n",
       " [4927,\n",
       "  'The Impact of Human Capital on Farm Operator Household Income',\n",
       "  0.7492703068270805],\n",
       " [11745,\n",
       "  'Assessing the Impact of Health Insurance and Other Socioeconomic Factors on Inequality in Health Care Expenditures among Farm Households',\n",
       "  0.7491991172492347],\n",
       " [1812,\n",
       "  'Distributional Impacts of the Tax Cuts and Jobs Act Using Farm Household Microdata',\n",
       "  0.7491279276713889],\n",
       " [10266,\n",
       "  'Reducing the Risks of Herbicide Resistance: Best Management Practices and Recommendations',\n",
       "  0.7488431693600057],\n",
       " [5365,\n",
       "  'Categorizing Nonresponse in Phase III of the 2006 Agricultural Resource Management Survey in Washington State',\n",
       "  0.7487719797821599],\n",
       " [7652,\n",
       "  'A Typology of Socioeconomic Disadvantage among Farm Operator Households: Assessment of Contributing Factors Using Evidence from a National Survey',\n",
       "  0.748700790204314],\n",
       " [11117,\n",
       "  'Intensity of Off-Farm Employment and Its Impact on Wage Distribution: Does the Source of Health Insurance Coverage Matter?',\n",
       "  0.7486296006264683],\n",
       " [12211,\n",
       "  'The Effects of Direct Payments on Liquidity and Repayment Capacity of Beginning Farmers',\n",
       "  0.7485584110486225],\n",
       " [6750,\n",
       "  \"Profitability of organic and conventional soybean production under 'green payments' in carbon offset programs\",\n",
       "  0.7484872214707766],\n",
       " [1258,\n",
       "  'Changing Farm Structure and the Distribution of Farm Payments and Federal Crop Insurance',\n",
       "  0.7483448423150851],\n",
       " [8927,\n",
       "  'Economic Returns to Herbicide Resistance Management in the Short and Long Run: The Role of Neighbor Effects',\n",
       "  0.7482024631593934],\n",
       " [6354,\n",
       "  'A Comparison of the Economic Well-Being of Farm and Nonfarm Households',\n",
       "  0.7481312735815477],\n",
       " [13953,\n",
       "  'The Economic Well-Being of Farm and Nonfarm Households: Evidence from Two National Surveys',\n",
       "  0.7479177048480102],\n",
       " [11868,\n",
       "  'Financial Management and Portfolio Analysis for U.S. Farm and Nonfarm Households',\n",
       "  0.7478465152701645],\n",
       " [9425,\n",
       "  'US agricultural support programs and ethanol policies effects on farmland values and rental rates',\n",
       "  0.7477753256923186],\n",
       " [4873,\n",
       "  'Imputing for Missing Data in the ARMS Household Section: A Multivariate Imputation Approach',\n",
       "  0.7477041361144728],\n",
       " [8555,\n",
       "  'Tax policy and farm capital investment: Section 179 expensing and bonus depreciation',\n",
       "  0.7476329465366269],\n",
       " [7767, 'Tax Reform and Farm Households', 0.7475617569587812],\n",
       " [6648,\n",
       "  'Do farmers manage weeds on owned and rented land differently? Evidence from U.S. corn and soybean farms',\n",
       "  0.7474905673809354],\n",
       " [5154,\n",
       "  'The Nitrogen Footprint Tool Network: A Multi-Institution Program To Reduce Nitrogen Pollution.',\n",
       "  0.7474193778030895],\n",
       " [6735,\n",
       "  'Impacts of Microbial Inoculants as Integrated Pest Management Tools in Apple Production',\n",
       "  0.7473481882252438],\n",
       " [2546,\n",
       "  'Additionality in U.S. Agricultural Conservation and Regulatory Offset Programs',\n",
       "  0.7470634299138607],\n",
       " [10388, 'Marketing Contracts and Crop Insurance', 0.7469922403360149],\n",
       " [8836, 'Debt Use by U.S Farm Businesses, 1992-2011', 0.746921050758169],\n",
       " [9264,\n",
       "  'Revisiting the Impact of Bt Corn Adoption by U.S. Farmers',\n",
       "  0.7468498611803231],\n",
       " [10582,\n",
       "  'Farm Household Well-Being: Comparing Consumption- and Income-Based Measures',\n",
       "  0.7467074820246316],\n",
       " [4687,\n",
       "  'Measuring Farm Household Well-Being: Comparing Consumption and Income-based Measures',\n",
       "  0.7466362924467858],\n",
       " [5591,\n",
       "  'The impact of decoupled payments on the cost of operating capital',\n",
       "  0.7465651028689401],\n",
       " [2374,\n",
       "  'The Impact of Decoupled Payments on the Cost of Operating Capital',\n",
       "  0.7464939132910942],\n",
       " [12192, 'Financial ratio analysis using ARMS data', 0.7464227237132484],\n",
       " [11900,\n",
       "  'Following beginning farm income and wealth over time',\n",
       "  0.746209154979711],\n",
       " [2791,\n",
       "  'Evaluating financial stress and performance of beginning farmers during the agricultural downturn',\n",
       "  0.7461379654018652],\n",
       " [5272,\n",
       "  'The Role of Information and Prices in the Nitrogen Fertilizer Management Decision: New Evidence from the Agricultural Resource Management Survey',\n",
       "  0.7460667758240195],\n",
       " [5949,\n",
       "  'Can machine learning improve prediction - an application with farm survey data',\n",
       "  0.7459955862461736],\n",
       " [5009,\n",
       "  'Milk Cost of Production Estimates for January, February, and March 2012',\n",
       "  0.7459243966683278],\n",
       " [13108,\n",
       "  'Milk Cost of Production Estimates for April, May, and June 2012',\n",
       "  0.7458532070904819],\n",
       " [7324,\n",
       "  'Milk Cost of Production Estimates for October, November, and December 2012',\n",
       "  0.7457820175126362],\n",
       " [12550,\n",
       "  'Measures of Farm Household Well-Being Tell Different Stories',\n",
       "  0.7456396383569445],\n",
       " [4865,\n",
       "  'On the Doorstep of the Information Age: Recent Adoption of Precision Agriculture',\n",
       "  0.7455684487790987],\n",
       " [11742,\n",
       "  'Indirect Monetary Incentives for the 2004 ARMS Phase III Core',\n",
       "  0.745497259201253],\n",
       " [5974,\n",
       "  'FACTORS AFFECTING THE LIKELIHOOD OF CORN ROOTWORM BT SEED ADOPTION',\n",
       "  0.7454260696234072],\n",
       " [1384,\n",
       "  'How do financially vulnerable farms finance debt in periods of falling prices?',\n",
       "  0.7453548800455613],\n",
       " [1231,\n",
       "  'Structure and Finances of U.S. Farms: Family Farm Report, 2014 Edition',\n",
       "  0.7452836904677156],\n",
       " [6327,\n",
       "  'Impact of Ethanol Plant Location on Corn Revenues for U.S. Farmers',\n",
       "  0.7452125008898698],\n",
       " [8030,\n",
       "  \"What do farmers' weed control decisions imply about glyphosate resistance? Evidence from surveys of US corn fields\",\n",
       "  0.7451413113120239],\n",
       " [11374,\n",
       "  'Sequential Adoption and Cost Savings from Precision Agriculture',\n",
       "  0.7449277425784865],\n",
       " [13239,\n",
       "  'Using Handheld Global Positioning System Receivers for Phase II of the Agricultural Resource Management Survey',\n",
       "  0.744785363422795],\n",
       " [11397,\n",
       "  'Farm Commodity Payments and Imputation in the Agricultural Resource Management Survey',\n",
       "  0.7447141738449491],\n",
       " [4816, 'Nutrients in the nexus', 0.7446429842671033],\n",
       " [53,\n",
       "  'Factors Affecting Farmer Participation in Agritourism',\n",
       "  0.7445006051114117],\n",
       " [6632,\n",
       "  'Effects of Manure Use and Use Restrictions on Variable Production Costs and Net Incomes for United States Corn Producers',\n",
       "  0.7442870363778742],\n",
       " [10856,\n",
       "  'U.S. Rice Production in the New Millennium: Changes in Structure, Practices, and Costs',\n",
       "  0.7442158468000285],\n",
       " [1466,\n",
       "  'Imputation in High-Dimensional Economic Data as Applied to the Agricultural Resource Management Survey',\n",
       "  0.7440734676443368],\n",
       " [13184,\n",
       "  'Sampling error in US field crop unit process data for life cycle assessment',\n",
       "  0.7440022780664911],\n",
       " [5421,\n",
       "  'Marketing Organic Milk in the United States: Findings from the Agricultural Resource Management Survey of 2005',\n",
       "  0.7437887093329536],\n",
       " [6747,\n",
       "  'Farm Activities Associated With Rural Development Initiatives',\n",
       "  0.7437175197551079],\n",
       " [6813,\n",
       "  'Including Ecosystem Services in Life Cycle Assessment: Methodology and Application to Urban Farms',\n",
       "  0.7433615718658788],\n",
       " [1626,\n",
       "  'Analysis of Participation in Multifunctional Agriculture: U.S. Rice Farms',\n",
       "  0.743290382288033],\n",
       " [6539,\n",
       "  'Scale Economies and Inefficiency of U.S. Dairy Farms',\n",
       "  0.7432191927101873],\n",
       " [11412,\n",
       "  'Characteristics and Production Costs of U.S. Dairy Operations',\n",
       "  0.7431480031323414],\n",
       " [12337,\n",
       "  \"Do Direct Payments Distort Producers' Decisions? An Examination of the Farm Security and Rural Investment Act of 2002\",\n",
       "  0.7430768135544956],\n",
       " [2828,\n",
       "  'Income Stabilization Through Government Payments: How Is Farm Household Consumption Affected?',\n",
       "  0.7430056239766497],\n",
       " [4378,\n",
       "  'Accounting for complex entities: implications for ARMS',\n",
       "  0.742934434398804],\n",
       " [8304,\n",
       "  'Economic Efficiency, Structure and Scale Economies in the U.S. Dairy Sector',\n",
       "  0.7428632448209582],\n",
       " [9143,\n",
       "  'Effect of Compliance Cost on the Supply of Bank Credit to Agriculture: A Differential Approach',\n",
       "  0.742578486509575],\n",
       " [5588,\n",
       "  'Internet of Underground Things in Precision Agriculture: Architecture and Technology Aspects',\n",
       "  0.7424361073538834],\n",
       " [13954,\n",
       "  'Estimation of risk management effects on revenue and purchased feed costs on US dairy farms.',\n",
       "  0.7423649177760376],\n",
       " [7047, 'Farming and the Internet: Reasons for Non-Use', 0.7422937281981917],\n",
       " [6927,\n",
       "  'Does Farm Size Matter? Distribution of Crop Insurance Subsidies and Government Program Payments across U.S. Farms',\n",
       "  0.7422225386203459],\n",
       " [10067,\n",
       "  'Characterizing US dairy farm income and wealth distributions',\n",
       "  0.7421513490425002],\n",
       " [0,\n",
       "  'Technology Adoption and Technical Efficiency: Organic and Conventional Dairy Farms in the United States',\n",
       "  0.7420089698868085],\n",
       " [5279,\n",
       "  'Exploring Farm Business and Household Expenditure Patterns and Community Linkages',\n",
       "  0.7419377803089628],\n",
       " [4763,\n",
       "  'Parameterization in Life Cycle Assessment inventory data: review of current use and the representation of uncertainty',\n",
       "  0.7418665907311169],\n",
       " [7801,\n",
       "  'Adoption of nitrogen-efficient technologies by u.s. Corn farmers.',\n",
       "  0.741510642841888],\n",
       " [2408,\n",
       "  'The greenhouse gas benefits of corn ethanol - assessing recent evidence',\n",
       "  0.7414394532640423],\n",
       " [8815,\n",
       "  'The Impact of Farmer-Field-Schools on Knowledge and Productivity: A Study of Potato Farmers in the Peruvian Andes',\n",
       "  0.7413682636861963],\n",
       " [3583,\n",
       "  'Evaluation of Dairy Farm Technical Efficiency: Production of Milk Components as Output Measures',\n",
       "  0.7412258845305046],\n",
       " [7230,\n",
       "  'Differences across farm typologies in capital investment during 1996-2013',\n",
       "  0.7408699366412758],\n",
       " [12588,\n",
       "  \"A Structural Model of US Corn Farmers' Pest Control Decisions: Rootworm Resistance in US Corn Fields\",\n",
       "  0.74079874706343],\n",
       " [3172,\n",
       "  'The Utility of Nonparametric Transformations for Imputation of Survey Data',\n",
       "  0.740727557485584],\n",
       " [5968,\n",
       "  'Improvements in on-farm resource stewardship with profitable information technologies in rice production',\n",
       "  0.7406563679077384],\n",
       " [8091,\n",
       "  'A Predictive Analytics Understanding of Cooperative Membership Heterogeneity and Sustainability',\n",
       "  0.7405851783298926],\n",
       " [3986,\n",
       "  'Using Uncertainty and Sensitivity Analyses in Socioecological Agent-Based Models to Improve Their Analytical Performance and Policy Relevance',\n",
       "  0.7405139887520467],\n",
       " [3461,\n",
       "  'The Varying Impacts of Agricultural Support Programs on U.S. Farm Household Consumption',\n",
       "  0.7404427991742009],\n",
       " [4272,\n",
       "  'Decoupling direct payments: potential impacts of the 2014 farm bill on farm debt',\n",
       "  0.7401580408628177],\n",
       " [1774,\n",
       "  'A real options model to assess the role of flexibility in forestry and agroforestry adoption and disadoption in the Lower Mississippi Alluvial Valley',\n",
       "  0.7400868512849719],\n",
       " [12010,\n",
       "  'The Motivation for Organic Grain Farming in the United States: Profits, Lifestyle, or the Environment?',\n",
       "  0.7400156617071261],\n",
       " [2383,\n",
       "  \"Market Segmentation of Today's Agricultural Borrower\",\n",
       "  0.7399444721292803],\n",
       " [8093,\n",
       "  'On how environmental stringency influences adoption of best management practices in agriculture',\n",
       "  0.7398732825514345],\n",
       " [2086,\n",
       "  'The milk delivery chain and presence of Brucella spp. antibodies in bulk milk in Uganda.',\n",
       "  0.7398020929735887],\n",
       " [4472,\n",
       "  'Agronomic and Economic Performance of Maize, Soybean, and Wheat in Different Rotations during the Transition to an Organic Cropping System',\n",
       "  0.7397309033957429],\n",
       " [11334,\n",
       "  'Characteristics and Production Costs of U.S. Cotton Farms, 2007',\n",
       "  0.739659713817897],\n",
       " [9179,\n",
       "  'The Role of Risk and Risk-Aversion in Adoption of Alternative Marketing Arrangements by the U.S. Farmers',\n",
       "  0.7395885242400513],\n",
       " [13543,\n",
       "  'MODELING NO-TILL ADOPTION BY CORN AND SOYBEAN PRODUCERS: INSIGHTS INTO SUSTAINED ADOPTION',\n",
       "  0.7393037659286681],\n",
       " [174,\n",
       "  'Midwest U.S. landscape change to 2020 driven by biofuel mandates',\n",
       "  0.7391613867729764],\n",
       " [6919,\n",
       "  'Immigration Policy and its Possible Effects on U.S. Agriculture and the Market for Hired Farm Labor: A Simulation Analysis',\n",
       "  0.7390190076172849],\n",
       " [813,\n",
       "  'Production Efficiency of Specialized Swine Producers',\n",
       "  0.738947818039439],\n",
       " [3643,\n",
       "  'A New U.S. Farm Household Typology: Implications for Agricultural Subsidies',\n",
       "  0.7386630597280558],\n",
       " [9560,\n",
       "  'Impact of environmental policies on the adoption of manure management practices in the Chesapeake Bay watershed',\n",
       "  0.7385918701502101],\n",
       " [867,\n",
       "  'Managing Feedstock Supply Risk for the Development of a US Stover Biofuel Industry',\n",
       "  0.7385206805723642],\n",
       " [10893,\n",
       "  'Agronomic Comparisons of Conventional and Organic Maize during the Transition to an Organic Cropping System',\n",
       "  0.7384494909945184],\n",
       " [8264,\n",
       "  'The personal and workplace characteristics of uninsured expatriate males in Saudi Arabia.',\n",
       "  0.7383071118388268],\n",
       " [1413,\n",
       "  'Management characteristics of Pennsylvania dairy farms* * USDA is an equal opportunity provider and employer.',\n",
       "  0.738235922260981],\n",
       " [2739,\n",
       "  'Distribution of Support and Income in Agriculture',\n",
       "  0.7381647326831352],\n",
       " [2710,\n",
       "  'U.S. Wheat Production Practices, Costs, and Yields: Variations Across Regions',\n",
       "  0.7380935431052894],\n",
       " [12072,\n",
       "  'Multi-Enterprising Farm Households: The Importance of Their Alternative Business Ventures in the Rural Economy',\n",
       "  0.7376664056382145],\n",
       " [2089,\n",
       "  'Who Really Benefits from Agricultural Subsidies? Evidence from Fieldlevel Data',\n",
       "  0.737524026482523],\n",
       " [9882,\n",
       "  'Agricultural Resource Management Survey and National Animal Health Monitoring System Data Analysis: Cow-Calf Case Study',\n",
       "  0.7371680785932939],\n",
       " [7465,\n",
       "  'Offfarm work and technical efficiency on U.S. dairies',\n",
       "  0.7370256994376024],\n",
       " [1455,\n",
       "  'The role of wildlife-associated recreation in private land use and conservation: Providing the missing baseline',\n",
       "  0.7369545098597565],\n",
       " [52, 'Anaerobic Digester Production and Cost Functions', 0.7368833202819107],\n",
       " [503,\n",
       "  'Setting the Record Straight on Precision Agriculture Adoption',\n",
       "  0.7368121307040648],\n",
       " [12498,\n",
       "  'A Re-Examination of Multistage Economies in Hog Farming',\n",
       "  0.7367409411262191],\n",
       " [1279,\n",
       "  'Assessing structural change in agriculture with a parametric Markov chain model. Illustrative applications to EU-15 and the USA',\n",
       "  0.7366697515483733],\n",
       " [3431,\n",
       "  \"The paddy, the vector and the caregiver: lessons from an ecosystem approach to irrigation and malaria in Northern Cote d'Ivoire.\",\n",
       "  0.7365985619705274],\n",
       " [5254,\n",
       "  'Multiple Generation Farm Households: What Determines Primacy in Management?',\n",
       "  0.7365273723926817],\n",
       " [4674,\n",
       "  'The Potential Supply of Carbon Dioxide Offsets from the Anaerobic Digestion of Dairy Waste in the United States',\n",
       "  0.7353883391471489],\n",
       " [1257,\n",
       "  'A Binary Logit Analysis of Factors Impacting Adoption of Genetically Modified Cotton',\n",
       "  0.735317149569303],\n",
       " [4002,\n",
       "  'Using sector financial statements and ARMS data to prepare statements of owner equity and cash flows for the agricultural sector',\n",
       "  0.7352459599914574],\n",
       " [5679,\n",
       "  \"Groundwater Quality and Nitrogen Use Efficiency in Nebraska's Central Platte River Valley\",\n",
       "  0.7351747704136115],\n",
       " [7017,\n",
       "  'Characteristics and Production Costs of U.S. Cow-Calf Operations',\n",
       "  0.7350323912579197],\n",
       " [10499,\n",
       "  'Is Corn Stover Harvest Predictable Using Farm Operation, Technology, and Management Variables?',\n",
       "  0.7349612016800741],\n",
       " [8437,\n",
       "  'Carbon Dioxide Offsets from Anaerobic Digestion of Dairy Waste',\n",
       "  0.7348900121022283],\n",
       " [5043,\n",
       "  'The New York State Agricultural Immigration and Human Resource Management Issues Study',\n",
       "  0.7348188225243824],\n",
       " [5708, 'The Mexican Common Property Forestry Sector', 0.7347476329465367],\n",
       " [10409,\n",
       "  'The Disadoption of rbST and Its Economic Impact: A Switching Regression Approach',\n",
       "  0.7340357371680786],\n",
       " [12329,\n",
       "  'Accumulating through food crisis? Farmers, commodity traders and the distributional politics of financialization',\n",
       "  0.7339645475902329],\n",
       " [5893,\n",
       "  'Do Campaign Contributions from Farmers Influence Agricultural Policy? Evidence from a 2008 Farm Bill Amendment Vote to Curtail Cotton Subsidies',\n",
       "  0.7338221684345412],\n",
       " [8992, 'ESSAYS ON ORGANIC FOOD MARKETING IN THE U.S.', 0.7337509788566954],\n",
       " [8290,\n",
       "  'Genetically Modified Herbicide-Tolerant Crops, Weeds, and Herbicides: Overview and Impact',\n",
       "  0.7336797892788496],\n",
       " [13061,\n",
       "  'Farmlevel determinants of product conversion: Organic milk production',\n",
       "  0.7336085997010038],\n",
       " [6457, 'The Lebanese woman and the labor market.', 0.733537410123158],\n",
       " [10045,\n",
       "  'SOIL, NUTRIENT, AND WATER MANAGEMENT SYSTEMS USED IN U.S. CORN PRODUCTION',\n",
       "  0.7334662205453121],\n",
       " [10092,\n",
       "  'Characteristics and Production Costs of U.S. Cotton Farms',\n",
       "  0.7333950309674664],\n",
       " [357,\n",
       "  'The Potential of Watershed Development for Enhancing Agricultural Livelihood: Three Essays from the Semi-arid Regions of India',\n",
       "  0.7333238413896206],\n",
       " [3120,\n",
       "  \"Variance Estimation With USDA's Farm Costs and Returns Surveys and Agricultural Resource Management Study Surveys.\",\n",
       "  0.7332526518117747],\n",
       " [9872, 'Abstracts', 0.7319000498327045],\n",
       " [1595,\n",
       "  'Impact of taxation in agriculture: Literature review',\n",
       "  0.7318288602548587]]"
      ]
     },
     "execution_count": 77,
     "metadata": {},
     "output_type": "execute_result"
    }
   ],
   "source": [
    "publ_list"
   ]
  },
  {
   "cell_type": "code",
   "execution_count": 78,
   "metadata": {},
   "outputs": [
    {
     "data": {
      "text/plain": [
       "320"
      ]
     },
     "execution_count": 78,
     "metadata": {},
     "output_type": "execute_result"
    }
   ],
   "source": [
    "len(publ_list)"
   ]
  },
  {
   "cell_type": "code",
   "execution_count": 80,
   "metadata": {},
   "outputs": [
    {
     "data": {
      "text/plain": [
       "{'id': 'publication-d864fb8e65b9911da285',\n",
       " 'title': 'Modeling Nonresponse in Establishment Surveys: Using an Ensemble Tree Model to Create Nonresponse Propensity Scores and Detect Potential Bias in an Agricultural Survey',\n",
       " 'doi': 'https://doi.org/10.2478/jos-2014-0044',\n",
       " 'pdf': 'https://content.sciendo.com/downloadpdf/journals/jos/30/4/article-p701.pdf',\n",
       " 'journal': 'journal-388a0fd3b1aef791eb9f',\n",
       " 'abstract': '',\n",
       " 'datasets': ['dataset-955eb4bf66b73016354c'],\n",
       " 'authors': ['author-ad0b6700cc208ad4c996',\n",
       "  'author-2528f731c9c280748899',\n",
       "  'author-e1113516a3433e2b5aad',\n",
       "  'author-8be0cada94debc4a4a97',\n",
       "  'author-96ab1026b6bf3f555a12',\n",
       "  'author-7daa66d1c751bbb2f936'],\n",
       " 'topics': []}"
      ]
     },
     "execution_count": 80,
     "metadata": {},
     "output_type": "execute_result"
    }
   ],
   "source": [
    "net.publ[net.id_list[publ_list[6][0]]].view"
   ]
  },
  {
   "cell_type": "code",
   "execution_count": 84,
   "metadata": {},
   "outputs": [
    {
     "data": {
      "text/plain": [
       "[6161,\n",
       " 'Potential Farm-Level Effects of Eliminating Direct Payments',\n",
       " 0.8045134192354239]"
      ]
     },
     "execution_count": 84,
     "metadata": {},
     "output_type": "execute_result"
    }
   ],
   "source": [
    "publ_list[4], provider"
   ]
  },
  {
   "cell_type": "code",
   "execution_count": 82,
   "metadata": {},
   "outputs": [],
   "source": [
    "test_pids = []\n",
    "for pid, pubName, pubRank in publ_list:\n",
    "#     print(len(net.publ[net.id_list[pid]].view['datasets']))\n",
    "    test_pids.append(pid)"
   ]
  },
  {
   "cell_type": "code",
   "execution_count": 83,
   "metadata": {},
   "outputs": [
    {
     "data": {
      "text/plain": [
       "(320, 320)"
      ]
     },
     "execution_count": 83,
     "metadata": {},
     "output_type": "execute_result"
    }
   ],
   "source": [
    "len(test_pids), len(set(test_pids))"
   ]
  },
  {
   "cell_type": "code",
   "execution_count": null,
   "metadata": {},
   "outputs": [],
   "source": []
  }
 ],
 "metadata": {
  "kernelspec": {
   "display_name": "RCServer",
   "language": "python",
   "name": "rcserver"
  },
  "language_info": {
   "codemirror_mode": {
    "name": "ipython",
    "version": 3
   },
   "file_extension": ".py",
   "mimetype": "text/x-python",
   "name": "python",
   "nbconvert_exporter": "python",
   "pygments_lexer": "ipython3",
   "version": "3.8.5"
  }
 },
 "nbformat": 4,
 "nbformat_minor": 4
}
