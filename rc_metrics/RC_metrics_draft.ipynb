{
 "cells": [
  {
   "cell_type": "markdown",
   "metadata": {},
   "source": [
    "## Draft metrics of dataset value"
   ]
  },
  {
   "cell_type": "code",
   "execution_count": 1,
   "metadata": {},
   "outputs": [],
   "source": [
    "from server import * # to do: clean up and rename 'server' script"
   ]
  },
  {
   "cell_type": "code",
   "execution_count": 2,
   "metadata": {},
   "outputs": [],
   "source": [
    "# build a graph from the JSON-LD corpus\n",
    "net = RCNetwork()\n",
    "# net.parse_corpus(Path(\"../corpus/corpus.jsonld\"))"
   ]
  },
  {
   "cell_type": "code",
   "execution_count": null,
   "metadata": {},
   "outputs": [],
   "source": [
    "# rank and scale each entity\n",
    "# net.build_analytics_graph()"
   ]
  },
  {
   "cell_type": "code",
   "execution_count": 3,
   "metadata": {},
   "outputs": [
    {
     "data": {
      "text/plain": [
       "28542.771816253662"
      ]
     },
     "execution_count": 3,
     "metadata": {},
     "output_type": "execute_result"
    }
   ],
   "source": [
    "# parses, builds NetworkX graph, and creates default \"rank\" for each entity\n",
    "net.load_network(\"full.jsonld\") # net.load_network(\"../../rclc/corpus.jsonld\")"
   ]
  },
  {
   "cell_type": "markdown",
   "metadata": {},
   "source": [
    "#### simple ways to explore the RCNetwork"
   ]
  },
  {
   "cell_type": "code",
   "execution_count": null,
   "metadata": {},
   "outputs": [],
   "source": [
    "# view an element of the graph\n",
    "net.data['dataset-b1b062c8a276fe2800fd'].view"
   ]
  },
  {
   "cell_type": "code",
   "execution_count": null,
   "metadata": {},
   "outputs": [],
   "source": [
    "# net.prov['provider-99fda6d9f6fbf67c3f72'].view\n",
    "\n",
    "net.prov['provider-99fda6d9f6fbf67c3f72'].view['title']"
   ]
  },
  {
   "cell_type": "code",
   "execution_count": null,
   "metadata": {},
   "outputs": [],
   "source": [
    "# net.get_id('publication-639196e25a9adcadaaf2')\n",
    "# net.id_list # returns\n",
    "\n",
    "net.get_id('dataset-b1b062c8a276fe2800fd') # to find in nxg if needed"
   ]
  },
  {
   "cell_type": "code",
   "execution_count": null,
   "metadata": {},
   "outputs": [],
   "source": [
    "len(net.publ.keys()), len(net.prov.keys()), len(net.data.keys())"
   ]
  },
  {
   "cell_type": "code",
   "execution_count": null,
   "metadata": {},
   "outputs": [],
   "source": [
    "subgraph, paths, node_id = net.get_subgraph('NOAA', 2)"
   ]
  },
  {
   "cell_type": "code",
   "execution_count": null,
   "metadata": {},
   "outputs": [],
   "source": [
    "# no entries with full NOAA name\n",
    "for p in net.prov.keys():\n",
    "    if net.prov[p].view['title']=='National Oceanic and Atmospheric Administration':\n",
    "        print(net.prov[p].view)"
   ]
  },
  {
   "cell_type": "code",
   "execution_count": null,
   "metadata": {},
   "outputs": [],
   "source": [
    "# provider entry uses abbreviation\n",
    "for p in net.prov.keys():\n",
    "    if net.prov[p].view['title']=='NOAA':\n",
    "        print(net.prov[p].view)"
   ]
  },
  {
   "cell_type": "code",
   "execution_count": null,
   "metadata": {},
   "outputs": [],
   "source": [
    "## gather NOAA datasets\n",
    "\n",
    "data_list = []\n",
    "\n",
    "for d in net.data.keys():\n",
    "    if net.data[d].view['provider']=='provider-e4db130cccc74f809faf':\n",
    "#         print(net.data[d].view)\n",
    "        data_list.append(net.data[d].view['id'])"
   ]
  },
  {
   "cell_type": "markdown",
   "metadata": {},
   "source": [
    "### some more ways to access RCNetwork"
   ]
  },
  {
   "cell_type": "code",
   "execution_count": null,
   "metadata": {},
   "outputs": [],
   "source": [
    "net.data[data_list[3]].view"
   ]
  },
  {
   "cell_type": "code",
   "execution_count": null,
   "metadata": {},
   "outputs": [],
   "source": [
    "# edges from this node\n",
    "net.nxg[net.get_id(net.data[data_list[3]].view[\"id\"])]"
   ]
  },
  {
   "cell_type": "code",
   "execution_count": null,
   "metadata": {},
   "outputs": [],
   "source": [
    "net.id_list[2617]"
   ]
  },
  {
   "cell_type": "code",
   "execution_count": null,
   "metadata": {},
   "outputs": [],
   "source": [
    "net.labels[25501]"
   ]
  },
  {
   "cell_type": "code",
   "execution_count": null,
   "metadata": {},
   "outputs": [],
   "source": [
    "# test 'recommended links' function\n",
    "uuid, title, rank, url, provider, publ_list = net.reco_data(net.data[data_list[3]])"
   ]
  },
  {
   "cell_type": "code",
   "execution_count": null,
   "metadata": {},
   "outputs": [],
   "source": [
    "for pub in net.publ.keys():\n",
    "    if 'dataset-26993827b8a6f43da2bc' in net.publ[pub].view['datasets']:\n",
    "        print(net.publ[pub].view)"
   ]
  },
  {
   "cell_type": "code",
   "execution_count": null,
   "metadata": {},
   "outputs": [],
   "source": [
    "for pub in publ_list:\n",
    "    print(pub)"
   ]
  },
  {
   "cell_type": "code",
   "execution_count": null,
   "metadata": {},
   "outputs": [],
   "source": [
    "net.publ[net.id_list[25501]].view"
   ]
  },
  {
   "cell_type": "code",
   "execution_count": null,
   "metadata": {},
   "outputs": [],
   "source": [
    "# spot check a dataset in the list is found in at least some publications\n",
    "for p in net.publ.keys():\n",
    "        if data_list[4] in net.publ[p].view['datasets']:\n",
    "            print('found data')"
   ]
  },
  {
   "cell_type": "code",
   "execution_count": null,
   "metadata": {},
   "outputs": [],
   "source": [
    "## replicate for USDA\n",
    "for p in net.prov.keys():\n",
    "    if net.prov[p].view['title']=='USDA':\n",
    "        print(net.prov[p].view)"
   ]
  },
  {
   "cell_type": "code",
   "execution_count": null,
   "metadata": {},
   "outputs": [],
   "source": [
    "for p in net.prov.keys():\n",
    "    if net.prov[p].view['title']=='US Department of Agriculture':\n",
    "        print(net.prov[p].view)"
   ]
  },
  {
   "cell_type": "code",
   "execution_count": null,
   "metadata": {},
   "outputs": [],
   "source": [
    "## gather USDA datasets\n",
    "\n",
    "data_list = []\n",
    "\n",
    "for d in net.data.keys():\n",
    "    if net.data[d].view['provider']=='provider-d2d242eddffb73cc92c0':\n",
    "        print(net.data[d].view['id'], net.data[d].view['title'])\n",
    "        data_list.append(net.data[d].view['id'])"
   ]
  },
  {
   "cell_type": "code",
   "execution_count": null,
   "metadata": {},
   "outputs": [],
   "source": [
    "net.reco_data(net.data['dataset-f65e9e0b7b63697db36a'])"
   ]
  },
  {
   "cell_type": "code",
   "execution_count": null,
   "metadata": {},
   "outputs": [],
   "source": [
    "net.publ[net.id_list[2775]].view"
   ]
  },
  {
   "cell_type": "code",
   "execution_count": null,
   "metadata": {},
   "outputs": [],
   "source": [
    "for p in net.prov.keys():\n",
    "    if net.prov[p].view['title']=='IRI':\n",
    "        print(net.prov[p].view)"
   ]
  },
  {
   "cell_type": "code",
   "execution_count": null,
   "metadata": {},
   "outputs": [],
   "source": [
    "# gete dataset ids for just IRI\n",
    "data_list = []\n",
    "\n",
    "for d in net.data.keys():\n",
    "    if net.data[d].view['provider']=='provider-19eb7b3b445e1a00d385':\n",
    "        print(net.data[d].view['id'], net.data[d].view['title'])\n",
    "        data_list.append(net.data[d].view['id'])"
   ]
  },
  {
   "cell_type": "code",
   "execution_count": 13,
   "metadata": {},
   "outputs": [
    {
     "name": "stdout",
     "output_type": "stream",
     "text": [
      "this corpus has: \n",
      "--619 datasets \n",
      "--3,816 publications \n",
      "--378 providers \n",
      "--8,249 authors\n"
     ]
    }
   ],
   "source": [
    "num_datasets = len(set(net.data.keys()))\n",
    "\n",
    "num_publications = len(set(net.publ.keys()))\n",
    "\n",
    "num_providers = len(set(net.prov.keys()))\n",
    "\n",
    "num_authors = len(set(net.auth.keys()))\n",
    "\n",
    "print(\"this corpus has: \\n--{:,.0f} datasets \\n--{:,.0f} publications \\n--{:,.0f} providers \\n--{:,.0f} authors\".format(\n",
    "num_datasets, num_publications, num_providers, num_authors))"
   ]
  },
  {
   "cell_type": "markdown",
   "metadata": {},
   "source": [
    "### Gather dataset labels and initial measures"
   ]
  },
  {
   "cell_type": "code",
   "execution_count": null,
   "metadata": {
    "jupyter": {
     "source_hidden": true
    }
   },
   "outputs": [],
   "source": [
    "# # V1 - was not sure of `reco_data()` grabbed all publications; appears it does\n",
    "# DataID = [] # RC UUID\n",
    "# DataName = [] # title\n",
    "# DataRank = [] # rank\n",
    "# RecPubCount = [] # count of publications from 'recommender'\n",
    "# TotPubCount = [] # total publications that are linked to this dataset\n",
    "# CombinedData = [] # total count of other datasets linked to publications\n",
    "# UniqueCombData = [] # unique count of other datsets linked to publications\n",
    "\n",
    "# for d in data_list:\n",
    "#     # gather  info from 'recommender'; it sorts the publications based on Eigenvector calc of 'rank'\n",
    "#     uuid, title, rank, url, provider, publ_list = net.reco_data(net.data[d])\n",
    "#     DataID.append(uuid)\n",
    "#     DataName.append(title)\n",
    "#     DataRank.append(rank)\n",
    "#     RecPubCount.append(len(publ_list))\n",
    "#     # search through all publications for current dataset\n",
    "#     co_data = []\n",
    "#     num_pubs = 0\n",
    "#     for p in net.publ.keys():\n",
    "#         if d in net.publ[p].view['datasets']:\n",
    "#             num_pubs += 1 # pub uses current data\n",
    "#             d_list = net.publ[p].view['datasets'].copy()\n",
    "#             d_list.remove(uuid) # don't include current dataset\n",
    "#             co_data = co_data + d_list # ** LIST OF DATASETS; use to eg calculate data provider co-occurence\n",
    "#             #print('----- added pub')\n",
    "#     TotPubCount.append(num_pubs)\n",
    "#     CombinedData.append(len(co_data))\n",
    "#     UniqueCombData.append(len(set(co_data)))\n",
    "    \n",
    "# # save metrics to dataframe to explore\n",
    "# df = pd.DataFrame({'RC_uuid': DataID, 'Dataset_Name': DataName, 'RC_rank': DataRank, 'num_rec_pubs': RecPubCount,\n",
    "#                   'total_pubs': TotPubCount, 'combined_data': CombinedData, 'num_unique_data_join': UniqueCombData})"
   ]
  },
  {
   "cell_type": "code",
   "execution_count": 20,
   "metadata": {},
   "outputs": [],
   "source": [
    "# V2 - make better use of `reco_data()`\n",
    "DataID = [] # RC UUID\n",
    "DataName = [] # title\n",
    "DataURL = [] # reference URL\n",
    "DataProv = [] # dataset provider\n",
    "DataRank = [] # rank\n",
    "TotPubCount = [] # total publications that are linked to this dataset\n",
    "CombinedData = [] # total count of other datasets linked to publications\n",
    "UniqueCombData = [] # unique count of other datsets linked to publications\n",
    "\n",
    "for d in net.data.keys(): #data_list:\n",
    "    # gather  info from 'recommender'; it sorts the publications based on Eigenvector calc of 'rank'\n",
    "    uuid, title, rank, url, provider, publ_list = net.reco_data(net.data[d])\n",
    "    DataID.append(uuid)\n",
    "    DataName.append(title)\n",
    "    DataRank.append(rank)\n",
    "    DataURL.append(url)\n",
    "    DataProv.append(provider[1]) # grab name for now; 2nd element of \"provider\"\n",
    "    TotPubCount.append(len(publ_list))\n",
    "    # collect datasets linked to publications for current dataset\n",
    "    co_data = []\n",
    "    for p_id, _t, _r in publ_list:\n",
    "        d_list = net.publ[net.id_list[p_id]].view['datasets'].copy()\n",
    "        d_list.remove(uuid) # don't include current dataset\n",
    "        co_data = co_data + d_list # ** LIST OF DATASETS; use to eg calculate data provider co-occurence\n",
    "    CombinedData.append(len(co_data))\n",
    "    UniqueCombData.append(len(set(co_data)))"
   ]
  },
  {
   "cell_type": "code",
   "execution_count": 21,
   "metadata": {},
   "outputs": [],
   "source": [
    "# save metrics to dataframe to explore\n",
    "df = pd.DataFrame({'RC_uuid': DataID, 'Dataset_Name': DataName, 'RC_URL': DataURL, 'RC_Provider': DataProv, 'RC_rank': DataRank, \n",
    "                  'total_pubs': TotPubCount, 'combined_data': CombinedData, 'num_unique_data_join': UniqueCombData})"
   ]
  },
  {
   "cell_type": "code",
   "execution_count": 22,
   "metadata": {},
   "outputs": [
    {
     "data": {
      "text/html": [
       "<div>\n",
       "<style scoped>\n",
       "    .dataframe tbody tr th:only-of-type {\n",
       "        vertical-align: middle;\n",
       "    }\n",
       "\n",
       "    .dataframe tbody tr th {\n",
       "        vertical-align: top;\n",
       "    }\n",
       "\n",
       "    .dataframe thead th {\n",
       "        text-align: right;\n",
       "    }\n",
       "</style>\n",
       "<table border=\"1\" class=\"dataframe\">\n",
       "  <thead>\n",
       "    <tr style=\"text-align: right;\">\n",
       "      <th></th>\n",
       "      <th>RC_uuid</th>\n",
       "      <th>Dataset_Name</th>\n",
       "      <th>RC_URL</th>\n",
       "      <th>RC_Provider</th>\n",
       "      <th>RC_rank</th>\n",
       "      <th>total_pubs</th>\n",
       "      <th>combined_data</th>\n",
       "      <th>num_unique_data_join</th>\n",
       "    </tr>\n",
       "  </thead>\n",
       "  <tbody>\n",
       "    <tr>\n",
       "      <th>0</th>\n",
       "      <td>dataset-d7abbc1e566a22068f1d</td>\n",
       "      <td>Maine Sea Level Rise</td>\n",
       "      <td>https://mgs-maine.opendata.arcgis.com/datasets...</td>\n",
       "      <td>Maine Geological Survey</td>\n",
       "      <td>0.0435</td>\n",
       "      <td>1</td>\n",
       "      <td>1</td>\n",
       "      <td>1</td>\n",
       "    </tr>\n",
       "    <tr>\n",
       "      <th>1</th>\n",
       "      <td>dataset-b2063e7c8ba68a048d87</td>\n",
       "      <td>Iowa Medicaid Information System</td>\n",
       "      <td>https://dhs.iowa.gov/ime/contracts/resource-li...</td>\n",
       "      <td>Iowa Department of Human Services</td>\n",
       "      <td>0.0092</td>\n",
       "      <td>1</td>\n",
       "      <td>5</td>\n",
       "      <td>5</td>\n",
       "    </tr>\n",
       "    <tr>\n",
       "      <th>2</th>\n",
       "      <td>dataset-5eb698d20631f3425eba</td>\n",
       "      <td>The Special Nutrition Program Operations Study</td>\n",
       "      <td>https://www.fns.usda.gov/special-nutrition-pro...</td>\n",
       "      <td>US Department of Agriculture</td>\n",
       "      <td>0.8123</td>\n",
       "      <td>1</td>\n",
       "      <td>0</td>\n",
       "      <td>0</td>\n",
       "    </tr>\n",
       "    <tr>\n",
       "      <th>3</th>\n",
       "      <td>dataset-c8d47db36ff66f36666b</td>\n",
       "      <td>Billion-Dollar Weather and Climate Disasters</td>\n",
       "      <td>https://www.ncdc.noaa.gov/billions/events</td>\n",
       "      <td>NOAA</td>\n",
       "      <td>0.2970</td>\n",
       "      <td>3</td>\n",
       "      <td>0</td>\n",
       "      <td>0</td>\n",
       "    </tr>\n",
       "    <tr>\n",
       "      <th>4</th>\n",
       "      <td>dataset-7342a430cff8e8ba688a</td>\n",
       "      <td>New York State Division of Criminal Justice Se...</td>\n",
       "      <td>https://www.criminaljustice.ny.gov/crimnet/ojs...</td>\n",
       "      <td>New York State Division of Criminal Justice Se...</td>\n",
       "      <td>0.3280</td>\n",
       "      <td>3</td>\n",
       "      <td>18</td>\n",
       "      <td>16</td>\n",
       "    </tr>\n",
       "  </tbody>\n",
       "</table>\n",
       "</div>"
      ],
      "text/plain": [
       "                        RC_uuid  \\\n",
       "0  dataset-d7abbc1e566a22068f1d   \n",
       "1  dataset-b2063e7c8ba68a048d87   \n",
       "2  dataset-5eb698d20631f3425eba   \n",
       "3  dataset-c8d47db36ff66f36666b   \n",
       "4  dataset-7342a430cff8e8ba688a   \n",
       "\n",
       "                                        Dataset_Name  \\\n",
       "0                               Maine Sea Level Rise   \n",
       "1                   Iowa Medicaid Information System   \n",
       "2     The Special Nutrition Program Operations Study   \n",
       "3       Billion-Dollar Weather and Climate Disasters   \n",
       "4  New York State Division of Criminal Justice Se...   \n",
       "\n",
       "                                              RC_URL  \\\n",
       "0  https://mgs-maine.opendata.arcgis.com/datasets...   \n",
       "1  https://dhs.iowa.gov/ime/contracts/resource-li...   \n",
       "2  https://www.fns.usda.gov/special-nutrition-pro...   \n",
       "3          https://www.ncdc.noaa.gov/billions/events   \n",
       "4  https://www.criminaljustice.ny.gov/crimnet/ojs...   \n",
       "\n",
       "                                         RC_Provider RC_rank  total_pubs  \\\n",
       "0                            Maine Geological Survey  0.0435           1   \n",
       "1                  Iowa Department of Human Services  0.0092           1   \n",
       "2                       US Department of Agriculture  0.8123           1   \n",
       "3                                               NOAA  0.2970           3   \n",
       "4  New York State Division of Criminal Justice Se...  0.3280           3   \n",
       "\n",
       "   combined_data  num_unique_data_join  \n",
       "0              1                     1  \n",
       "1              5                     5  \n",
       "2              0                     0  \n",
       "3              0                     0  \n",
       "4             18                    16  "
      ]
     },
     "execution_count": 22,
     "metadata": {},
     "output_type": "execute_result"
    }
   ],
   "source": [
    "df.head()"
   ]
  },
  {
   "cell_type": "code",
   "execution_count": 23,
   "metadata": {},
   "outputs": [
    {
     "data": {
      "text/plain": [
       "(619, 8)"
      ]
     },
     "execution_count": 23,
     "metadata": {},
     "output_type": "execute_result"
    }
   ],
   "source": [
    "df.shape"
   ]
  },
  {
   "cell_type": "code",
   "execution_count": 14,
   "metadata": {},
   "outputs": [],
   "source": [
    "# save metrics as table\n",
    "df.to_csv('rc_metrics_full_0915.csv', index=False)"
   ]
  },
  {
   "cell_type": "markdown",
   "metadata": {},
   "source": [
    "### data checking"
   ]
  },
  {
   "cell_type": "code",
   "execution_count": null,
   "metadata": {
    "jupyter": {
     "source_hidden": true
    }
   },
   "outputs": [],
   "source": [
    "## spot check pub list returned by recommender\n",
    "for publist in net.reco_data(net.data['dataset-f513907681e789b16587'])[5]:\n",
    "    pub = net.publ[net.id_list[publist[0]]]\n",
    "    print(pub.view['title'])\n",
    "    print('---', pub.view['datasets'])"
   ]
  },
  {
   "cell_type": "code",
   "execution_count": null,
   "metadata": {
    "jupyter": {
     "source_hidden": true
    }
   },
   "outputs": [],
   "source": [
    "## confirm same publications returned\n",
    "for pkey in net.publ.keys():\n",
    "    if 'dataset-f513907681e789b16587' in net.publ[pkey].view['datasets']:\n",
    "        print(net.publ[pkey].view['title'])\n",
    "        print('--',net.publ[pkey].view['datasets'])"
   ]
  },
  {
   "cell_type": "code",
   "execution_count": null,
   "metadata": {
    "jupyter": {
     "source_hidden": true
    }
   },
   "outputs": [],
   "source": [
    "for publist in net.reco_data(net.data['dataset-545bdd82bd282357400b'])[5]:\n",
    "    pub = net.publ[net.id_list[publist[0]]]\n",
    "    print(pub.view['title'])\n",
    "    print('---', pub.view['datasets'])"
   ]
  },
  {
   "cell_type": "code",
   "execution_count": null,
   "metadata": {
    "jupyter": {
     "source_hidden": true
    }
   },
   "outputs": [],
   "source": [
    "for pkey in net.publ.keys():\n",
    "    if 'dataset-545bdd82bd282357400b' in net.publ[pkey].view['datasets']:\n",
    "        print(net.publ[pkey].view['title'])\n",
    "        print('--',net.publ[pkey].view['datasets'])"
   ]
  },
  {
   "cell_type": "code",
   "execution_count": null,
   "metadata": {
    "jupyter": {
     "source_hidden": true
    }
   },
   "outputs": [],
   "source": [
    "for pkey in net.publ.keys():\n",
    "    if 'dataset-df0ad972c8f854896ac4' in net.publ[pkey].view['datasets']:\n",
    "        print(net.publ[pkey].view['title'])\n",
    "        print('--',net.publ[pkey].view['datasets'])\n"
   ]
  },
  {
   "cell_type": "code",
   "execution_count": null,
   "metadata": {
    "jupyter": {
     "source_hidden": true
    }
   },
   "outputs": [],
   "source": [
    "for pkey in net.publ.keys():\n",
    "    if 'dataset-df0ad972c8f854896ac4' in net.publ[pkey].view['datasets']:\n",
    "        print(net.publ[pkey].view['title'])\n",
    "        print('--',net.publ[pkey].view['datasets'])"
   ]
  },
  {
   "cell_type": "markdown",
   "metadata": {},
   "source": [
    "### some simple visuals"
   ]
  },
  {
   "cell_type": "code",
   "execution_count": 17,
   "metadata": {},
   "outputs": [],
   "source": [
    "import matplotlib.pyplot as plt\n",
    "%matplotlib inline"
   ]
  },
  {
   "cell_type": "code",
   "execution_count": 33,
   "metadata": {},
   "outputs": [],
   "source": [
    "# \n",
    "df_vis = df.groupby('RC_Provider')['total_pubs'].sum().reset_index().sort_values('total_pubs', ascending=False)"
   ]
  },
  {
   "cell_type": "code",
   "execution_count": 34,
   "metadata": {},
   "outputs": [
    {
     "data": {
      "text/plain": [
       "(263, 2)"
      ]
     },
     "execution_count": 34,
     "metadata": {},
     "output_type": "execute_result"
    }
   ],
   "source": [
    "df_vis.shape"
   ]
  },
  {
   "cell_type": "code",
   "execution_count": 41,
   "metadata": {},
   "outputs": [
    {
     "data": {
      "text/html": [
       "<div>\n",
       "<style scoped>\n",
       "    .dataframe tbody tr th:only-of-type {\n",
       "        vertical-align: middle;\n",
       "    }\n",
       "\n",
       "    .dataframe tbody tr th {\n",
       "        vertical-align: top;\n",
       "    }\n",
       "\n",
       "    .dataframe thead th {\n",
       "        text-align: right;\n",
       "    }\n",
       "</style>\n",
       "<table border=\"1\" class=\"dataframe\">\n",
       "  <thead>\n",
       "    <tr style=\"text-align: right;\">\n",
       "      <th></th>\n",
       "      <th>RC_Provider</th>\n",
       "      <th>total_pubs</th>\n",
       "    </tr>\n",
       "  </thead>\n",
       "  <tbody>\n",
       "    <tr>\n",
       "      <th>71</th>\n",
       "      <td>IRI</td>\n",
       "      <td>57.500000</td>\n",
       "    </tr>\n",
       "    <tr>\n",
       "      <th>142</th>\n",
       "      <td>National Center for Science and Engineering St...</td>\n",
       "      <td>36.916667</td>\n",
       "    </tr>\n",
       "    <tr>\n",
       "      <th>198</th>\n",
       "      <td>State of Wisconsin Department of Workforce Dev...</td>\n",
       "      <td>31.000000</td>\n",
       "    </tr>\n",
       "    <tr>\n",
       "      <th>214</th>\n",
       "      <td>US Department of Agriculture</td>\n",
       "      <td>28.786885</td>\n",
       "    </tr>\n",
       "    <tr>\n",
       "      <th>106</th>\n",
       "      <td>Maryland Department of Labor</td>\n",
       "      <td>25.000000</td>\n",
       "    </tr>\n",
       "    <tr>\n",
       "      <th>238</th>\n",
       "      <td>University of Michigan</td>\n",
       "      <td>24.000000</td>\n",
       "    </tr>\n",
       "    <tr>\n",
       "      <th>12</th>\n",
       "      <td>California Department of Health Care Services</td>\n",
       "      <td>23.000000</td>\n",
       "    </tr>\n",
       "    <tr>\n",
       "      <th>49</th>\n",
       "      <td>Federal Emergency Management Agency</td>\n",
       "      <td>22.000000</td>\n",
       "    </tr>\n",
       "    <tr>\n",
       "      <th>257</th>\n",
       "      <td>Wisconsin Department of Public Instruction</td>\n",
       "      <td>21.000000</td>\n",
       "    </tr>\n",
       "    <tr>\n",
       "      <th>93</th>\n",
       "      <td>Johns Hopkins University</td>\n",
       "      <td>21.000000</td>\n",
       "    </tr>\n",
       "  </tbody>\n",
       "</table>\n",
       "</div>"
      ],
      "text/plain": [
       "                                           RC_Provider  total_pubs\n",
       "71                                                 IRI   57.500000\n",
       "142  National Center for Science and Engineering St...   36.916667\n",
       "198  State of Wisconsin Department of Workforce Dev...   31.000000\n",
       "214                       US Department of Agriculture   28.786885\n",
       "106                       Maryland Department of Labor   25.000000\n",
       "238                             University of Michigan   24.000000\n",
       "12       California Department of Health Care Services   23.000000\n",
       "49                 Federal Emergency Management Agency   22.000000\n",
       "257         Wisconsin Department of Public Instruction   21.000000\n",
       "93                            Johns Hopkins University   21.000000"
      ]
     },
     "execution_count": 41,
     "metadata": {},
     "output_type": "execute_result"
    }
   ],
   "source": [
    "df_vis.head(10)"
   ]
  },
  {
   "cell_type": "code",
   "execution_count": 43,
   "metadata": {},
   "outputs": [
    {
     "data": {
      "image/png": "[encoded data removed]",
      "text/plain": [
       "<Figure size 1008x576 with 1 Axes>"
      ]
     },
     "metadata": {
      "needs_background": "light"
     },
     "output_type": "display_data"
    }
   ],
   "source": [
    "df_vis.iloc[:20,:].plot(x='RC_Provider', y='total_pubs' , kind='bar', figsize=(14,8), title='Total publications by data provider');"
   ]
  },
  {
   "cell_type": "code",
   "execution_count": 44,
   "metadata": {},
   "outputs": [
    {
     "data": {
      "image/png": "[encoded data removed]",
      "text/plain": [
       "<Figure size 1008x576 with 1 Axes>"
      ]
     },
     "metadata": {
      "needs_background": "light"
     },
     "output_type": "display_data"
    }
   ],
   "source": [
    "## mean\n",
    "df_vis = df.groupby('RC_Provider')['total_pubs'].mean().reset_index().sort_values('total_pubs', ascending=False)\n",
    "\n",
    "df_vis.iloc[:20,:].plot(x='RC_Provider', y='total_pubs' , kind='bar', figsize=(14,8), title='Average (mean) publications by data provider');"
   ]
  },
  {
   "cell_type": "code",
   "execution_count": null,
   "metadata": {},
   "outputs": [],
   "source": []
  }
 ],
 "metadata": {
  "kernelspec": {
   "display_name": "RCServer",
   "language": "python",
   "name": "rcserver"
  },
  "language_info": {
   "codemirror_mode": {
    "name": "ipython",
    "version": 3
   },
   "file_extension": ".py",
   "mimetype": "text/x-python",
   "name": "python",
   "nbconvert_exporter": "python",
   "pygments_lexer": "ipython3",
   "version": "3.8.5"
  }
 },
 "nbformat": 4,
 "nbformat_minor": 4
}
